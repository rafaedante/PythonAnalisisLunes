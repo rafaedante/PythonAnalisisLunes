{
 "cells": [
  {
   "cell_type": "code",
   "execution_count": 1,
   "metadata": {},
   "outputs": [],
   "source": [
    "import numpy as np\n",
    "import pandas as pd\n",
    "import matplotlib.pyplot as plt\n",
    "%matplotlib inline\n",
    "\n",
    "import gmaps\n",
    "import gmaps.datasets\n",
    "\n",
    "import ipyleaflet\n",
    "from ipyleaflet import Map, Heatmap, basemaps\n",
    "\n",
    "gmaps.configure(api_key='ssssssssssssssegegegege')\n",
    "\n",
    "coordenadas = delitos2019[['lat', 'long']]\n",
    "\n",
    "gmaps.headmap_layer(coordenadas)"
   ]
  },
  {
   "cell_type": "code",
   "execution_count": 4,
   "metadata": {},
   "outputs": [
    {
     "data": {
      "text/html": [
       "<div>\n",
       "<style scoped>\n",
       "    .dataframe tbody tr th:only-of-type {\n",
       "        vertical-align: middle;\n",
       "    }\n",
       "\n",
       "    .dataframe tbody tr th {\n",
       "        vertical-align: top;\n",
       "    }\n",
       "\n",
       "    .dataframe thead th {\n",
       "        text-align: right;\n",
       "    }\n",
       "</style>\n",
       "<table border=\"1\" class=\"dataframe\">\n",
       "  <thead>\n",
       "    <tr style=\"text-align: right;\">\n",
       "      <th></th>\n",
       "      <th>id</th>\n",
       "      <th>fecha</th>\n",
       "      <th>franja_horaria</th>\n",
       "      <th>tipo_delito</th>\n",
       "      <th>subtipo_delito</th>\n",
       "      <th>cantidad_registrada</th>\n",
       "      <th>comuna</th>\n",
       "      <th>barrio</th>\n",
       "      <th>lat</th>\n",
       "      <th>long</th>\n",
       "    </tr>\n",
       "  </thead>\n",
       "  <tbody>\n",
       "    <tr>\n",
       "      <th>0</th>\n",
       "      <td>374556</td>\n",
       "      <td>2019-01-01</td>\n",
       "      <td>12</td>\n",
       "      <td>Lesiones</td>\n",
       "      <td>Siniestro Vial</td>\n",
       "      <td>1.0</td>\n",
       "      <td>4.0</td>\n",
       "      <td>Nueva Pompeya</td>\n",
       "      <td>-34.648387</td>\n",
       "      <td>-58.404748</td>\n",
       "    </tr>\n",
       "    <tr>\n",
       "      <th>1</th>\n",
       "      <td>426152</td>\n",
       "      <td>2019-01-01</td>\n",
       "      <td>6</td>\n",
       "      <td>Robo (con violencia)</td>\n",
       "      <td>NaN</td>\n",
       "      <td>1.0</td>\n",
       "      <td>9.0</td>\n",
       "      <td>Liniers</td>\n",
       "      <td>-34.649827</td>\n",
       "      <td>-58.513859</td>\n",
       "    </tr>\n",
       "    <tr>\n",
       "      <th>2</th>\n",
       "      <td>371604</td>\n",
       "      <td>2019-01-01</td>\n",
       "      <td>8</td>\n",
       "      <td>Lesiones</td>\n",
       "      <td>Siniestro Vial</td>\n",
       "      <td>1.0</td>\n",
       "      <td>15.0</td>\n",
       "      <td>Chacarita</td>\n",
       "      <td>-34.588108</td>\n",
       "      <td>-58.439392</td>\n",
       "    </tr>\n",
       "    <tr>\n",
       "      <th>3</th>\n",
       "      <td>425359</td>\n",
       "      <td>2019-01-01</td>\n",
       "      <td>16</td>\n",
       "      <td>Hurto (sin violencia)</td>\n",
       "      <td>Hurto Automotor</td>\n",
       "      <td>1.0</td>\n",
       "      <td>10.0</td>\n",
       "      <td>Floresta</td>\n",
       "      <td>-34.631877</td>\n",
       "      <td>-58.483975</td>\n",
       "    </tr>\n",
       "    <tr>\n",
       "      <th>4</th>\n",
       "      <td>437571</td>\n",
       "      <td>2019-01-01</td>\n",
       "      <td>2</td>\n",
       "      <td>Robo (con violencia)</td>\n",
       "      <td>Robo Automotor</td>\n",
       "      <td>1.0</td>\n",
       "      <td>4.0</td>\n",
       "      <td>Parque Patricios</td>\n",
       "      <td>-34.633161</td>\n",
       "      <td>-58.397123</td>\n",
       "    </tr>\n",
       "    <tr>\n",
       "      <th>...</th>\n",
       "      <td>...</td>\n",
       "      <td>...</td>\n",
       "      <td>...</td>\n",
       "      <td>...</td>\n",
       "      <td>...</td>\n",
       "      <td>...</td>\n",
       "      <td>...</td>\n",
       "      <td>...</td>\n",
       "      <td>...</td>\n",
       "      <td>...</td>\n",
       "    </tr>\n",
       "    <tr>\n",
       "      <th>117656</th>\n",
       "      <td>486770</td>\n",
       "      <td>2019-12-31</td>\n",
       "      <td>18</td>\n",
       "      <td>Robo (con violencia)</td>\n",
       "      <td>Robo Automotor</td>\n",
       "      <td>1.0</td>\n",
       "      <td>8.0</td>\n",
       "      <td>Villa Riachuelo</td>\n",
       "      <td>-34.692347</td>\n",
       "      <td>-58.472299</td>\n",
       "    </tr>\n",
       "    <tr>\n",
       "      <th>117657</th>\n",
       "      <td>486678</td>\n",
       "      <td>2019-12-31</td>\n",
       "      <td>4</td>\n",
       "      <td>Robo (con violencia)</td>\n",
       "      <td>Robo Automotor</td>\n",
       "      <td>1.0</td>\n",
       "      <td>5.0</td>\n",
       "      <td>Boedo</td>\n",
       "      <td>-34.626424</td>\n",
       "      <td>-58.422846</td>\n",
       "    </tr>\n",
       "    <tr>\n",
       "      <th>117658</th>\n",
       "      <td>486668</td>\n",
       "      <td>2019-12-31</td>\n",
       "      <td>1</td>\n",
       "      <td>Robo (con violencia)</td>\n",
       "      <td>Robo Automotor</td>\n",
       "      <td>1.0</td>\n",
       "      <td>1.0</td>\n",
       "      <td>Monserrat</td>\n",
       "      <td>-34.615892</td>\n",
       "      <td>-58.370573</td>\n",
       "    </tr>\n",
       "    <tr>\n",
       "      <th>117659</th>\n",
       "      <td>486750</td>\n",
       "      <td>2019-12-31</td>\n",
       "      <td>14</td>\n",
       "      <td>Robo (con violencia)</td>\n",
       "      <td>Robo Automotor</td>\n",
       "      <td>1.0</td>\n",
       "      <td>15.0</td>\n",
       "      <td>Villa Crespo</td>\n",
       "      <td>-34.602577</td>\n",
       "      <td>-58.433145</td>\n",
       "    </tr>\n",
       "    <tr>\n",
       "      <th>117660</th>\n",
       "      <td>486683</td>\n",
       "      <td>2019-12-31</td>\n",
       "      <td>7</td>\n",
       "      <td>Robo (con violencia)</td>\n",
       "      <td>Robo Automotor</td>\n",
       "      <td>1.0</td>\n",
       "      <td>8.0</td>\n",
       "      <td>Villa Lugano</td>\n",
       "      <td>-34.674789</td>\n",
       "      <td>-58.466394</td>\n",
       "    </tr>\n",
       "  </tbody>\n",
       "</table>\n",
       "<p>117661 rows × 10 columns</p>\n",
       "</div>"
      ],
      "text/plain": [
       "            id       fecha franja_horaria            tipo_delito  \\\n",
       "0       374556  2019-01-01             12               Lesiones   \n",
       "1       426152  2019-01-01              6   Robo (con violencia)   \n",
       "2       371604  2019-01-01              8               Lesiones   \n",
       "3       425359  2019-01-01             16  Hurto (sin violencia)   \n",
       "4       437571  2019-01-01              2   Robo (con violencia)   \n",
       "...        ...         ...            ...                    ...   \n",
       "117656  486770  2019-12-31             18   Robo (con violencia)   \n",
       "117657  486678  2019-12-31              4   Robo (con violencia)   \n",
       "117658  486668  2019-12-31              1   Robo (con violencia)   \n",
       "117659  486750  2019-12-31             14   Robo (con violencia)   \n",
       "117660  486683  2019-12-31              7   Robo (con violencia)   \n",
       "\n",
       "         subtipo_delito  cantidad_registrada  comuna            barrio  \\\n",
       "0        Siniestro Vial                  1.0     4.0     Nueva Pompeya   \n",
       "1                   NaN                  1.0     9.0           Liniers   \n",
       "2        Siniestro Vial                  1.0    15.0         Chacarita   \n",
       "3       Hurto Automotor                  1.0    10.0          Floresta   \n",
       "4        Robo Automotor                  1.0     4.0  Parque Patricios   \n",
       "...                 ...                  ...     ...               ...   \n",
       "117656   Robo Automotor                  1.0     8.0   Villa Riachuelo   \n",
       "117657   Robo Automotor                  1.0     5.0             Boedo   \n",
       "117658   Robo Automotor                  1.0     1.0         Monserrat   \n",
       "117659   Robo Automotor                  1.0    15.0      Villa Crespo   \n",
       "117660   Robo Automotor                  1.0     8.0      Villa Lugano   \n",
       "\n",
       "              lat       long  \n",
       "0      -34.648387 -58.404748  \n",
       "1      -34.649827 -58.513859  \n",
       "2      -34.588108 -58.439392  \n",
       "3      -34.631877 -58.483975  \n",
       "4      -34.633161 -58.397123  \n",
       "...           ...        ...  \n",
       "117656 -34.692347 -58.472299  \n",
       "117657 -34.626424 -58.422846  \n",
       "117658 -34.615892 -58.370573  \n",
       "117659 -34.602577 -58.433145  \n",
       "117660 -34.674789 -58.466394  \n",
       "\n",
       "[117661 rows x 10 columns]"
      ]
     },
     "execution_count": 4,
     "metadata": {},
     "output_type": "execute_result"
    }
   ],
   "source": [
    "delito2019 = pd.read_csv('delitos_2019.csv')\n",
    "delito2019"
   ]
  },
  {
   "cell_type": "code",
   "execution_count": 5,
   "metadata": {},
   "outputs": [
    {
     "data": {
      "text/html": [
       "<div>\n",
       "<style scoped>\n",
       "    .dataframe tbody tr th:only-of-type {\n",
       "        vertical-align: middle;\n",
       "    }\n",
       "\n",
       "    .dataframe tbody tr th {\n",
       "        vertical-align: top;\n",
       "    }\n",
       "\n",
       "    .dataframe thead th {\n",
       "        text-align: right;\n",
       "    }\n",
       "</style>\n",
       "<table border=\"1\" class=\"dataframe\">\n",
       "  <thead>\n",
       "    <tr style=\"text-align: right;\">\n",
       "      <th></th>\n",
       "      <th>fecha</th>\n",
       "      <th>franja_horaria</th>\n",
       "      <th>tipo_delito</th>\n",
       "      <th>subtipo_delito</th>\n",
       "      <th>cantidad_registrada</th>\n",
       "      <th>comuna</th>\n",
       "      <th>barrio</th>\n",
       "      <th>lat</th>\n",
       "      <th>long</th>\n",
       "    </tr>\n",
       "  </thead>\n",
       "  <tbody>\n",
       "    <tr>\n",
       "      <th>0</th>\n",
       "      <td>2019-01-01</td>\n",
       "      <td>12</td>\n",
       "      <td>Lesiones</td>\n",
       "      <td>Siniestro Vial</td>\n",
       "      <td>1.0</td>\n",
       "      <td>4.0</td>\n",
       "      <td>Nueva Pompeya</td>\n",
       "      <td>-34.648387</td>\n",
       "      <td>-58.404748</td>\n",
       "    </tr>\n",
       "    <tr>\n",
       "      <th>1</th>\n",
       "      <td>2019-01-01</td>\n",
       "      <td>6</td>\n",
       "      <td>Robo (con violencia)</td>\n",
       "      <td>NaN</td>\n",
       "      <td>1.0</td>\n",
       "      <td>9.0</td>\n",
       "      <td>Liniers</td>\n",
       "      <td>-34.649827</td>\n",
       "      <td>-58.513859</td>\n",
       "    </tr>\n",
       "    <tr>\n",
       "      <th>2</th>\n",
       "      <td>2019-01-01</td>\n",
       "      <td>8</td>\n",
       "      <td>Lesiones</td>\n",
       "      <td>Siniestro Vial</td>\n",
       "      <td>1.0</td>\n",
       "      <td>15.0</td>\n",
       "      <td>Chacarita</td>\n",
       "      <td>-34.588108</td>\n",
       "      <td>-58.439392</td>\n",
       "    </tr>\n",
       "    <tr>\n",
       "      <th>3</th>\n",
       "      <td>2019-01-01</td>\n",
       "      <td>16</td>\n",
       "      <td>Hurto (sin violencia)</td>\n",
       "      <td>Hurto Automotor</td>\n",
       "      <td>1.0</td>\n",
       "      <td>10.0</td>\n",
       "      <td>Floresta</td>\n",
       "      <td>-34.631877</td>\n",
       "      <td>-58.483975</td>\n",
       "    </tr>\n",
       "    <tr>\n",
       "      <th>4</th>\n",
       "      <td>2019-01-01</td>\n",
       "      <td>2</td>\n",
       "      <td>Robo (con violencia)</td>\n",
       "      <td>Robo Automotor</td>\n",
       "      <td>1.0</td>\n",
       "      <td>4.0</td>\n",
       "      <td>Parque Patricios</td>\n",
       "      <td>-34.633161</td>\n",
       "      <td>-58.397123</td>\n",
       "    </tr>\n",
       "    <tr>\n",
       "      <th>...</th>\n",
       "      <td>...</td>\n",
       "      <td>...</td>\n",
       "      <td>...</td>\n",
       "      <td>...</td>\n",
       "      <td>...</td>\n",
       "      <td>...</td>\n",
       "      <td>...</td>\n",
       "      <td>...</td>\n",
       "      <td>...</td>\n",
       "    </tr>\n",
       "    <tr>\n",
       "      <th>117656</th>\n",
       "      <td>2019-12-31</td>\n",
       "      <td>18</td>\n",
       "      <td>Robo (con violencia)</td>\n",
       "      <td>Robo Automotor</td>\n",
       "      <td>1.0</td>\n",
       "      <td>8.0</td>\n",
       "      <td>Villa Riachuelo</td>\n",
       "      <td>-34.692347</td>\n",
       "      <td>-58.472299</td>\n",
       "    </tr>\n",
       "    <tr>\n",
       "      <th>117657</th>\n",
       "      <td>2019-12-31</td>\n",
       "      <td>4</td>\n",
       "      <td>Robo (con violencia)</td>\n",
       "      <td>Robo Automotor</td>\n",
       "      <td>1.0</td>\n",
       "      <td>5.0</td>\n",
       "      <td>Boedo</td>\n",
       "      <td>-34.626424</td>\n",
       "      <td>-58.422846</td>\n",
       "    </tr>\n",
       "    <tr>\n",
       "      <th>117658</th>\n",
       "      <td>2019-12-31</td>\n",
       "      <td>1</td>\n",
       "      <td>Robo (con violencia)</td>\n",
       "      <td>Robo Automotor</td>\n",
       "      <td>1.0</td>\n",
       "      <td>1.0</td>\n",
       "      <td>Monserrat</td>\n",
       "      <td>-34.615892</td>\n",
       "      <td>-58.370573</td>\n",
       "    </tr>\n",
       "    <tr>\n",
       "      <th>117659</th>\n",
       "      <td>2019-12-31</td>\n",
       "      <td>14</td>\n",
       "      <td>Robo (con violencia)</td>\n",
       "      <td>Robo Automotor</td>\n",
       "      <td>1.0</td>\n",
       "      <td>15.0</td>\n",
       "      <td>Villa Crespo</td>\n",
       "      <td>-34.602577</td>\n",
       "      <td>-58.433145</td>\n",
       "    </tr>\n",
       "    <tr>\n",
       "      <th>117660</th>\n",
       "      <td>2019-12-31</td>\n",
       "      <td>7</td>\n",
       "      <td>Robo (con violencia)</td>\n",
       "      <td>Robo Automotor</td>\n",
       "      <td>1.0</td>\n",
       "      <td>8.0</td>\n",
       "      <td>Villa Lugano</td>\n",
       "      <td>-34.674789</td>\n",
       "      <td>-58.466394</td>\n",
       "    </tr>\n",
       "  </tbody>\n",
       "</table>\n",
       "<p>117661 rows × 9 columns</p>\n",
       "</div>"
      ],
      "text/plain": [
       "             fecha franja_horaria            tipo_delito   subtipo_delito  \\\n",
       "0       2019-01-01             12               Lesiones   Siniestro Vial   \n",
       "1       2019-01-01              6   Robo (con violencia)              NaN   \n",
       "2       2019-01-01              8               Lesiones   Siniestro Vial   \n",
       "3       2019-01-01             16  Hurto (sin violencia)  Hurto Automotor   \n",
       "4       2019-01-01              2   Robo (con violencia)   Robo Automotor   \n",
       "...            ...            ...                    ...              ...   \n",
       "117656  2019-12-31             18   Robo (con violencia)   Robo Automotor   \n",
       "117657  2019-12-31              4   Robo (con violencia)   Robo Automotor   \n",
       "117658  2019-12-31              1   Robo (con violencia)   Robo Automotor   \n",
       "117659  2019-12-31             14   Robo (con violencia)   Robo Automotor   \n",
       "117660  2019-12-31              7   Robo (con violencia)   Robo Automotor   \n",
       "\n",
       "        cantidad_registrada  comuna            barrio        lat       long  \n",
       "0                       1.0     4.0     Nueva Pompeya -34.648387 -58.404748  \n",
       "1                       1.0     9.0           Liniers -34.649827 -58.513859  \n",
       "2                       1.0    15.0         Chacarita -34.588108 -58.439392  \n",
       "3                       1.0    10.0          Floresta -34.631877 -58.483975  \n",
       "4                       1.0     4.0  Parque Patricios -34.633161 -58.397123  \n",
       "...                     ...     ...               ...        ...        ...  \n",
       "117656                  1.0     8.0   Villa Riachuelo -34.692347 -58.472299  \n",
       "117657                  1.0     5.0             Boedo -34.626424 -58.422846  \n",
       "117658                  1.0     1.0         Monserrat -34.615892 -58.370573  \n",
       "117659                  1.0    15.0      Villa Crespo -34.602577 -58.433145  \n",
       "117660                  1.0     8.0      Villa Lugano -34.674789 -58.466394  \n",
       "\n",
       "[117661 rows x 9 columns]"
      ]
     },
     "execution_count": 5,
     "metadata": {},
     "output_type": "execute_result"
    }
   ],
   "source": [
    "delito2019.drop('id', axis=1, inplace=True)\n",
    "delito2019"
   ]
  },
  {
   "cell_type": "code",
   "execution_count": 6,
   "metadata": {},
   "outputs": [
    {
     "data": {
      "text/plain": [
       "array(['12', '6', '8', '16', '2', '7', '21', '13', '5', '9', '0', '17',\n",
       "       '20', '23', '18', '4', '3', '10', '19', '22', '1', '14', '11',\n",
       "       '15', 'S/D'], dtype=object)"
      ]
     },
     "execution_count": 6,
     "metadata": {},
     "output_type": "execute_result"
    }
   ],
   "source": [
    "delito2019['franja_horaria'].unique()"
   ]
  },
  {
   "cell_type": "code",
   "execution_count": 7,
   "metadata": {},
   "outputs": [],
   "source": [
    "delito2019['franja_horaria'].replace('S/D', 0, inplace=True)"
   ]
  },
  {
   "cell_type": "code",
   "execution_count": 8,
   "metadata": {},
   "outputs": [
    {
     "data": {
      "text/plain": [
       "array(['12', '6', '8', '16', '2', '7', '21', '13', '5', '9', '0', '17',\n",
       "       '20', '23', '18', '4', '3', '10', '19', '22', '1', '14', '11',\n",
       "       '15', 0], dtype=object)"
      ]
     },
     "execution_count": 8,
     "metadata": {},
     "output_type": "execute_result"
    }
   ],
   "source": [
    "delito2019['franja_horaria'].unique()"
   ]
  },
  {
   "cell_type": "code",
   "execution_count": 10,
   "metadata": {},
   "outputs": [
    {
     "data": {
      "text/plain": [
       "Index(['fecha', 'franja_horaria', 'tipo_delito', 'subtipo_delito',\n",
       "       'cantidad_registrada', 'comuna', 'barrio', 'lat', 'long'],\n",
       "      dtype='object')"
      ]
     },
     "execution_count": 10,
     "metadata": {},
     "output_type": "execute_result"
    }
   ],
   "source": [
    "delito2019.columns"
   ]
  },
  {
   "cell_type": "code",
   "execution_count": 11,
   "metadata": {},
   "outputs": [
    {
     "data": {
      "text/plain": [
       "array(['Lesiones', 'Robo (con violencia)', 'Hurto (sin violencia)',\n",
       "       'Homicidio'], dtype=object)"
      ]
     },
     "execution_count": 11,
     "metadata": {},
     "output_type": "execute_result"
    }
   ],
   "source": [
    "delito2019['tipo_delito'].unique()"
   ]
  },
  {
   "cell_type": "code",
   "execution_count": 13,
   "metadata": {},
   "outputs": [
    {
     "data": {
      "text/plain": [
       "array(['Nueva Pompeya', 'Liniers', 'Chacarita', 'Floresta',\n",
       "       'Parque Patricios', 'Boca', 'Villa Pueyrredón', 'Barracas',\n",
       "       'Almagro', 'Palermo', 'Parque Avellaneda', 'Parque Chacabuco',\n",
       "       'Villa Devoto', 'San Cristóbal', 'Villa Lugano', 'Retiro',\n",
       "       'Mataderos', 'Villa Crespo', 'Balvanera', 'Recoleta',\n",
       "       'Villa Soldati', 'Constitución', 'Villa Urquiza', 'Flores',\n",
       "       'San Telmo', 'Caballito', 'Nuñez', 'Villa Luro', 'Belgrano',\n",
       "       'Saavedra', 'Puerto Madero', 'Villa Ortuzar', 'San Nicolás',\n",
       "       'Boedo', 'Monserrat', 'Colegiales', 'Villa del Parque', 'Coghlan',\n",
       "       'Villa Santa Rita', nan, 'Monte Castro', 'Villa Riachuelo',\n",
       "       'Villa Gral. Mitre', 'Paternal', 'Agronomía', 'Vélez Sársfield',\n",
       "       'Parque Chas', 'Villa Real', 'Versalles'], dtype=object)"
      ]
     },
     "execution_count": 13,
     "metadata": {},
     "output_type": "execute_result"
    }
   ],
   "source": [
    "delito2019['barrio'].unique()"
   ]
  },
  {
   "cell_type": "code",
   "execution_count": 14,
   "metadata": {},
   "outputs": [
    {
     "data": {
      "text/plain": [
       "Palermo              9559\n",
       "Balvanera            9239\n",
       "San Nicolás          6246\n",
       "Recoleta             5589\n",
       "Flores               5518\n",
       "Caballito            4962\n",
       "Almagro              4914\n",
       "Belgrano             4003\n",
       "Retiro               3932\n",
       "Villa Lugano         3839\n",
       "Barracas             3710\n",
       "Constitución         3592\n",
       "Monserrat            3226\n",
       "Villa Crespo         3144\n",
       "Nueva Pompeya        2652\n",
       "Villa Urquiza        2519\n",
       "Mataderos            2497\n",
       "Parque Chacabuco     2250\n",
       "San Cristóbal        1896\n",
       "Parque Patricios     1875\n",
       "Saavedra             1830\n",
       "Villa Devoto         1821\n",
       "Boedo                1806\n",
       "Nuñez                1804\n",
       "Parque Avellaneda    1803\n",
       "Liniers              1783\n",
       "Villa Soldati        1716\n",
       "Boca                 1683\n",
       "San Telmo            1595\n",
       "Floresta             1555\n",
       "Colegiales           1468\n",
       "Chacarita            1451\n",
       "Villa del Parque     1312\n",
       "Villa Pueyrredón     1094\n",
       "Villa Gral. Mitre    1059\n",
       "Vélez Sársfield      1003\n",
       "Villa Santa Rita     1002\n",
       "Villa Luro            943\n",
       "Monte Castro          919\n",
       "Paternal              660\n",
       "Villa Ortuzar         645\n",
       "Villa Riachuelo       520\n",
       "Parque Chas           482\n",
       "Coghlan               476\n",
       "Agronomía             454\n",
       "Versalles             392\n",
       "Villa Real            343\n",
       "Puerto Madero         283\n",
       "Name: barrio, dtype: int64"
      ]
     },
     "execution_count": 14,
     "metadata": {},
     "output_type": "execute_result"
    }
   ],
   "source": [
    "#cantidad total de delitox x barrio, graficar el top 5\n",
    "x = delito2019['barrio'].value_counts()\n",
    "x"
   ]
  },
  {
   "cell_type": "code",
   "execution_count": 15,
   "metadata": {},
   "outputs": [
    {
     "name": "stdout",
     "output_type": "stream",
     "text": [
      "{'Palermo': 9559, 'Balvanera': 9239, 'San Nicolás': 6246, 'Recoleta': 5589, 'Flores': 5518, 'Caballito': 4962, 'Almagro': 4914, 'Belgrano': 4003, 'Retiro': 3932, 'Villa Lugano': 3839, 'Barracas': 3710, 'Constitución': 3592, 'Monserrat': 3226, 'Villa Crespo': 3144, 'Nueva Pompeya': 2652, 'Villa Urquiza': 2519, 'Mataderos': 2497, 'Parque Chacabuco': 2250, 'San Cristóbal': 1896, 'Parque Patricios': 1875, 'Saavedra': 1830, 'Villa Devoto': 1821, 'Boedo': 1806, 'Nuñez': 1804, 'Parque Avellaneda': 1803, 'Liniers': 1783, 'Villa Soldati': 1716, 'Boca': 1683, 'San Telmo': 1595, 'Floresta': 1555, 'Colegiales': 1468, 'Chacarita': 1451, 'Villa del Parque': 1312, 'Villa Pueyrredón': 1094, 'Villa Gral. Mitre': 1059, 'Vélez Sársfield': 1003, 'Villa Santa Rita': 1002, 'Villa Luro': 943, 'Monte Castro': 919, 'Paternal': 660, 'Villa Ortuzar': 645, 'Villa Riachuelo': 520, 'Parque Chas': 482, 'Coghlan': 476, 'Agronomía': 454, 'Versalles': 392, 'Villa Real': 343, 'Puerto Madero': 283}\n",
      "-------------\n",
      "['Palermo', 'Balvanera', 'San Nicolás', 'Recoleta', 'Flores', 'Caballito', 'Almagro', 'Belgrano', 'Retiro', 'Villa Lugano', 'Barracas', 'Constitución', 'Monserrat', 'Villa Crespo', 'Nueva Pompeya', 'Villa Urquiza', 'Mataderos', 'Parque Chacabuco', 'San Cristóbal', 'Parque Patricios', 'Saavedra', 'Villa Devoto', 'Boedo', 'Nuñez', 'Parque Avellaneda', 'Liniers', 'Villa Soldati', 'Boca', 'San Telmo', 'Floresta', 'Colegiales', 'Chacarita', 'Villa del Parque', 'Villa Pueyrredón', 'Villa Gral. Mitre', 'Vélez Sársfield', 'Villa Santa Rita', 'Villa Luro', 'Monte Castro', 'Paternal', 'Villa Ortuzar', 'Villa Riachuelo', 'Parque Chas', 'Coghlan', 'Agronomía', 'Versalles', 'Villa Real', 'Puerto Madero']\n"
     ]
    }
   ],
   "source": [
    "barrio_dic = dict(x)\n",
    "barrio_lista = list(barrio_dic)\n",
    "print(barrio_dic)\n",
    "print(\"-------------\")\n",
    "print(barrio_lista)"
   ]
  },
  {
   "cell_type": "code",
   "execution_count": 16,
   "metadata": {},
   "outputs": [
    {
     "data": {
      "image/png": "[encoded data removed]",
      "text/plain": [
       "<Figure size 432x288 with 1 Axes>"
      ]
     },
     "metadata": {
      "needs_background": "light"
     },
     "output_type": "display_data"
    }
   ],
   "source": [
    "labels = [barrio_lista[0], barrio_lista[1], barrio_lista[2], barrio_lista[3], barrio_lista[4]]\n",
    "robos = [barrio_dic['Palermo'], barrio_dic['Balvanera'], barrio_dic['San Nicolás'], barrio_dic['Recoleta'], barrio_dic['Flores']]\n",
    "width = 0.35\n",
    "fig, ax = plt.subplots()\n",
    "ax.bar(labels, robos, width, label='Barrios')\n",
    "ax.set_ylabel('Cantidad de delitos')\n",
    "ax.set_title('Los 5 barrios con mas cantidad de delitos CABA 2019')\n",
    "plt.grid(True)\n",
    "plt.show()"
   ]
  },
  {
   "cell_type": "code",
   "execution_count": 17,
   "metadata": {},
   "outputs": [
    {
     "name": "stdout",
     "output_type": "stream",
     "text": [
      "Robo (con violencia)     62796\n",
      "Hurto (sin violencia)    49271\n",
      "Lesiones                  5408\n",
      "Homicidio                  186\n",
      "Name: tipo_delito, dtype: int64\n",
      "------------------\n",
      "cantidad registrada 117668.0\n"
     ]
    }
   ],
   "source": [
    "# cantidad por tipo de delito y el total registrada\n",
    "tipo_delitos = delito2019['tipo_delito'].value_counts()\n",
    "print(tipo_delitos)\n",
    "print('------------------')\n",
    "cantidadDelitos = delito2019['cantidad_registrada'].sum()\n",
    "print('cantidad registrada', cantidadDelitos)"
   ]
  },
  {
   "cell_type": "code",
   "execution_count": 18,
   "metadata": {},
   "outputs": [
    {
     "data": {
      "text/plain": [
       "Index(['fecha', 'franja_horaria', 'tipo_delito', 'subtipo_delito',\n",
       "       'cantidad_registrada', 'comuna', 'barrio', 'lat', 'long'],\n",
       "      dtype='object')"
      ]
     },
     "execution_count": 18,
     "metadata": {},
     "output_type": "execute_result"
    }
   ],
   "source": [
    "# cantidad de delitos x dia - buscar el dia con mayor delito\n",
    "delito2019.columns"
   ]
  },
  {
   "cell_type": "code",
   "execution_count": 21,
   "metadata": {},
   "outputs": [
    {
     "name": "stdout",
     "output_type": "stream",
     "text": [
      "El dia con la cantidad mayor de delitos fue: 2019-03-11 con 467 delitos\n"
     ]
    }
   ],
   "source": [
    "dias_delito = delito2019.groupby('fecha')['cantidad_registrada'].sum()\n",
    "#dias_delito\n",
    "\n",
    "dias = dict(delito2019['fecha'].value_counts())\n",
    "#dias\n",
    "\n",
    "a = dias['2019-03-11']\n",
    "lista = list(dias)\n",
    "print('El dia con la cantidad mayor de delitos fue:', lista[0], \"con\", a, \"delitos\")\n"
   ]
  },
  {
   "cell_type": "code",
   "execution_count": 23,
   "metadata": {},
   "outputs": [
    {
     "name": "stdout",
     "output_type": "stream",
     "text": [
      "{'18': 7415, '19': 7224, '20': 6990, '17': 6612, '16': 6518, '14': 6458, '12': 6407, '21': 6337, '15': 6315, '13': 6044, '10': 5536, '11': 5527, '22': 5449, '8': 5122, '9': 4931, '23': 4500, '7': 3897, '0': 3073, '6': 2998, '1': 2445, '5': 2357, '2': 1965, '4': 1814, '3': 1719, 0: 8}\n",
      "la mayor cantidad de delitos ocurren a las: 18 hs con 7415 delitos\n"
     ]
    }
   ],
   "source": [
    "# la hora en la que ocurren mas delitos\n",
    "horas = dict(delito2019['franja_horaria'].value_counts())\n",
    "print(horas)\n",
    "\n",
    "b = horas['18']\n",
    "lista = list(horas)\n",
    "\n",
    "print('la mayor cantidad de delitos ocurren a las:', lista[0], 'hs con', b, 'delitos')"
   ]
  }
 ],
 "metadata": {
  "kernelspec": {
   "display_name": "Python 3",
   "language": "python",
   "name": "python3"
  },
  "language_info": {
   "codemirror_mode": {
    "name": "ipython",
    "version": 3
   },
   "file_extension": ".py",
   "mimetype": "text/x-python",
   "name": "python",
   "nbconvert_exporter": "python",
   "pygments_lexer": "ipython3",
   "version": "3.8.3"
  }
 },
 "nbformat": 4,
 "nbformat_minor": 4
}
