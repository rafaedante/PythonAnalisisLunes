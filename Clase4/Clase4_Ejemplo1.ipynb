{
 "cells": [
  {
   "cell_type": "code",
   "execution_count": 1,
   "metadata": {},
   "outputs": [
    {
     "name": "stdout",
     "output_type": "stream",
     "text": [
      "Requirement already satisfied: pymysql in c:\\users\\rafaeli\\anaconda3\\lib\\site-packages (0.10.0)Note: you may need to restart the kernel to use updated packages.\n",
      "\n"
     ]
    }
   ],
   "source": [
    "pip install pymysql"
   ]
  },
  {
   "cell_type": "code",
   "execution_count": 3,
   "metadata": {},
   "outputs": [],
   "source": [
    "# import nombre_biblioteca as alias\n",
    "import math as m"
   ]
  },
  {
   "cell_type": "code",
   "execution_count": 4,
   "metadata": {},
   "outputs": [
    {
     "data": {
      "text/plain": [
       "3.141592653589793"
      ]
     },
     "execution_count": 4,
     "metadata": {},
     "output_type": "execute_result"
    }
   ],
   "source": [
    "pi = m.pi\n",
    "pi"
   ]
  },
  {
   "cell_type": "code",
   "execution_count": 6,
   "metadata": {},
   "outputs": [
    {
     "name": "stdout",
     "output_type": "stream",
     "text": [
      "8.0\n",
      "5.0\n",
      "3\n",
      "4\n"
     ]
    }
   ],
   "source": [
    "print(m.pow(2, 3)) # potencia\n",
    "print(m.sqrt(25)) # raiz cuadrada\n",
    "\n",
    "print(m.floor(3.89)) # redondeo a la baja\n",
    "print(m.ceil(3.10)) # redondeo al alta"
   ]
  },
  {
   "cell_type": "code",
   "execution_count": 7,
   "metadata": {},
   "outputs": [
    {
     "name": "stdout",
     "output_type": "stream",
     "text": [
      "345\n"
     ]
    }
   ],
   "source": [
    "print(m.trunc(345.321))"
   ]
  },
  {
   "cell_type": "code",
   "execution_count": 8,
   "metadata": {},
   "outputs": [
    {
     "name": "stdout",
     "output_type": "stream",
     "text": [
      "0.7071067811865476\n",
      "-1.0\n",
      "0.9999999999999999\n"
     ]
    }
   ],
   "source": [
    "print(m.sin(pi/4))\n",
    "print(m.cos(pi))\n",
    "print(m.tan(pi/4))"
   ]
  },
  {
   "cell_type": "code",
   "execution_count": 9,
   "metadata": {},
   "outputs": [
    {
     "name": "stdout",
     "output_type": "stream",
     "text": [
      "4.979879059754296\n",
      "2.162733996196845\n",
      "7.1844468237343175\n"
     ]
    }
   ],
   "source": [
    "print(m.log(145.45678901))\n",
    "print(m.log(145.45678901, 10))\n",
    "print(m.log(145.45678901, 2))"
   ]
  },
  {
   "cell_type": "code",
   "execution_count": 11,
   "metadata": {},
   "outputs": [
    {
     "data": {
      "text/plain": [
       "12.57"
      ]
     },
     "execution_count": 11,
     "metadata": {},
     "output_type": "execute_result"
    }
   ],
   "source": [
    "# ejercicio\n",
    "# realizar una funcion llamada area_circulo(radio), debe devolver el area de un circulo a partir del radio.\n",
    "# formula = radio al cuadrado por numero pi\n",
    "def area_circulo(radio):\n",
    "    #formula=m.pow(radio,2)*m.pi\n",
    "    #return formula\n",
    "    return round(m.pi*m.pow(radio,2), 2)\n",
    "\n",
    "area_circulo(2)\n",
    "\n"
   ]
  }
 ],
 "metadata": {
  "kernelspec": {
   "display_name": "Python 3",
   "language": "python",
   "name": "python3"
  },
  "language_info": {
   "codemirror_mode": {
    "name": "ipython",
    "version": 3
   },
   "file_extension": ".py",
   "mimetype": "text/x-python",
   "name": "python",
   "nbconvert_exporter": "python",
   "pygments_lexer": "ipython3",
   "version": "3.8.3"
  }
 },
 "nbformat": 4,
 "nbformat_minor": 4
}
