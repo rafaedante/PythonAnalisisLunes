{
 "cells": [
  {
   "cell_type": "markdown",
   "metadata": {},
   "source": [
    "# Mi presentacion\n",
    "\n",
    "#### indice:\n",
    "\n",
    "* ejercicio 1\n",
    "* ejercicio 2\n",
    "* ejercicio 3"
   ]
  },
  {
   "cell_type": "code",
   "execution_count": 1,
   "metadata": {},
   "outputs": [
    {
     "name": "stdout",
     "output_type": "stream",
     "text": [
      "15\n",
      "5\n",
      "360\n",
      "3.0\n",
      "125\n"
     ]
    }
   ],
   "source": [
    "# suma\n",
    "print(10+5)\n",
    "\n",
    "#resta\n",
    "print(10-5)\n",
    "\n",
    "#multiplicacion\n",
    "print(90 * 4)\n",
    "\n",
    "#division\n",
    "print(60 / 20)\n",
    "\n",
    "# potencia\n",
    "print(5 ** 3)"
   ]
  },
  {
   "cell_type": "code",
   "execution_count": 2,
   "metadata": {},
   "outputs": [
    {
     "name": "stdout",
     "output_type": "stream",
     "text": [
      "4\n",
      "3\n"
     ]
    }
   ],
   "source": [
    "# resto\n",
    "print(18 % 7)\n",
    "\n",
    "# cociente de la division\n",
    "print(7 // 2)\n"
   ]
  },
  {
   "cell_type": "code",
   "execution_count": 3,
   "metadata": {},
   "outputs": [
    {
     "data": {
      "text/plain": [
       "'hola Mundo!!!!'"
      ]
     },
     "execution_count": 3,
     "metadata": {},
     "output_type": "execute_result"
    }
   ],
   "source": [
    "# variables\n",
    "\n",
    "b = \"hola Mundo!!!!\"\n",
    "b"
   ]
  },
  {
   "cell_type": "code",
   "execution_count": 4,
   "metadata": {},
   "outputs": [
    {
     "name": "stdout",
     "output_type": "stream",
     "text": [
      "100\n"
     ]
    }
   ],
   "source": [
    "otra_variable = 100\n",
    "#mostramos el valor\n",
    "print(otra_variable)"
   ]
  },
  {
   "cell_type": "code",
   "execution_count": 5,
   "metadata": {},
   "outputs": [
    {
     "name": "stdout",
     "output_type": "stream",
     "text": [
      "150.0\n"
     ]
    }
   ],
   "source": [
    "mi_variable = 1.5\n",
    "\n",
    "resultado = mi_variable * otra_variable\n",
    "\n",
    "print(resultado)"
   ]
  },
  {
   "cell_type": "code",
   "execution_count": 6,
   "metadata": {},
   "outputs": [
    {
     "name": "stdout",
     "output_type": "stream",
     "text": [
      "escribir un numero: 23\n"
     ]
    },
    {
     "data": {
      "text/plain": [
       "3450.0"
      ]
     },
     "execution_count": 6,
     "metadata": {},
     "output_type": "execute_result"
    }
   ],
   "source": [
    "# entrada de datos - funcion input \n",
    "dato = int(input(\"escribir un numero: \")) # '50' -> 50\n",
    "resultado = dato * resultado\n",
    "resultado"
   ]
  },
  {
   "cell_type": "code",
   "execution_count": 7,
   "metadata": {},
   "outputs": [
    {
     "name": "stdout",
     "output_type": "stream",
     "text": [
      "Escribe tu nombre: rafa\n",
      "rafarafarafarafa\n",
      "rafa 4\n",
      "rafa\n"
     ]
    }
   ],
   "source": [
    "nombre = input(\"Escribe tu nombre: \")\n",
    "print(nombre * 4)\n",
    "print(nombre + \" 4\")\n",
    "print(nombre)"
   ]
  },
  {
   "cell_type": "code",
   "execution_count": 8,
   "metadata": {},
   "outputs": [
    {
     "name": "stdout",
     "output_type": "stream",
     "text": [
      "<class 'int'>\n",
      "<class 'int'>\n",
      "840\n"
     ]
    }
   ],
   "source": [
    "# Tipos de datos\n",
    "\n",
    "# enteros (int)\n",
    "\n",
    "mi_nro = 4\n",
    "otro_nro = 210\n",
    "\n",
    "print(type(mi_nro))\n",
    "print(type(otro_nro))\n",
    "\n",
    "print(mi_nro * otro_nro)"
   ]
  },
  {
   "cell_type": "code",
   "execution_count": 9,
   "metadata": {},
   "outputs": [
    {
     "name": "stdout",
     "output_type": "stream",
     "text": [
      "<class 'float'>\n",
      "<class 'float'>\n",
      "14.4\n"
     ]
    }
   ],
   "source": [
    "# Flotantes (float)\n",
    "mi_nro = 4.5\n",
    "otro_nro = 3.2\n",
    "\n",
    "print(type(mi_nro))\n",
    "print(type(otro_nro))\n",
    "\n",
    "print(mi_nro * otro_nro)"
   ]
  },
  {
   "cell_type": "code",
   "execution_count": 10,
   "metadata": {},
   "outputs": [
    {
     "name": "stdout",
     "output_type": "stream",
     "text": [
      "<class 'bool'>\n",
      "<class 'bool'>\n"
     ]
    },
    {
     "data": {
      "text/plain": [
       "1"
      ]
     },
     "execution_count": 10,
     "metadata": {},
     "output_type": "execute_result"
    }
   ],
   "source": [
    "# Booleanos (bool)\n",
    "mi_bool = True\n",
    "otro_bool = False\n",
    "\n",
    "print(type(mi_bool))\n",
    "print(type(otro_bool))\n",
    "\n",
    "mi_bool + otro_bool"
   ]
  },
  {
   "cell_type": "code",
   "execution_count": 11,
   "metadata": {},
   "outputs": [
    {
     "name": "stdout",
     "output_type": "stream",
     "text": [
      "<class 'str'>\n",
      "<class 'str'>\n"
     ]
    },
    {
     "data": {
      "text/plain": [
       "'en el curso de python los dias lunes'"
      ]
     },
     "execution_count": 11,
     "metadata": {},
     "output_type": "execute_result"
    }
   ],
   "source": [
    "# cadena de caracteres (str)\n",
    "\n",
    "mi_string = \"en el curso de python\"\n",
    "otro_string = ' los dias lunes'\n",
    "print(type(mi_string))\n",
    "print(type(otro_string))\n",
    "\n",
    "mi_string + otro_string"
   ]
  },
  {
   "cell_type": "code",
   "execution_count": 13,
   "metadata": {},
   "outputs": [
    {
     "data": {
      "text/plain": [
       "'y es dia lune'"
      ]
     },
     "execution_count": 13,
     "metadata": {},
     "output_type": "execute_result"
    }
   ],
   "source": [
    "mi_frase_prueba = \"Hoy es dia lunes 22 de febrero del 2021\"\n",
    "otra_frase = mi_frase_prueba[2:15]\n",
    "otra_frase"
   ]
  },
  {
   "cell_type": "code",
   "execution_count": 15,
   "metadata": {},
   "outputs": [
    {
     "name": "stdout",
     "output_type": "stream",
     "text": [
      "Concantenando: en el curso de python mas concatenado los dias lunes\n",
      "en el curso de python  concatenado con  los dias lunes\n"
     ]
    }
   ],
   "source": [
    "# formas de concatenacion\n",
    "print(\"Concantenando: \" + mi_string + \" mas concatenado\" + otro_string)\n",
    "\n",
    "print(mi_string, \" concatenado con\", otro_string)"
   ]
  },
  {
   "cell_type": "code",
   "execution_count": 20,
   "metadata": {},
   "outputs": [
    {
     "name": "stdout",
     "output_type": "stream",
     "text": [
      "es una prueba de concatenado 23\n",
      "210\n"
     ]
    }
   ],
   "source": [
    "# conversiones de tipos de datos\n",
    "# str() => convertir a string una variable o valor\n",
    "# int() => convertir a entero una variable o valor\n",
    "# float() => convertir a numero flotante una variable o valor\n",
    "# bool() => convertir a booleano\n",
    "\n",
    "mi_prueba = \"es una prueba de concatenado \"\n",
    "otro_valor = str(23)\n",
    "print(mi_prueba + otro_valor)\n",
    "\n",
    "mi_numero = 105\n",
    "otro_numero = int('105')\n",
    "\n",
    "print(mi_numero + otro_numero)"
   ]
  },
  {
   "cell_type": "code",
   "execution_count": 21,
   "metadata": {},
   "outputs": [
    {
     "name": "stdout",
     "output_type": "stream",
     "text": [
      "True\n",
      "False\n",
      "False\n",
      "True\n",
      "True\n",
      "False\n"
     ]
    }
   ],
   "source": [
    "# operaciones comparativas\n",
    "\n",
    "# igualdad -> ==\n",
    "# desigualdad -> !=\n",
    "# mayor -> >\n",
    "# menor -> <\n",
    "# mayor o igual -> >=\n",
    "# menor o igual -> <=\n",
    "\n",
    "print(7 > 6)\n",
    "print(7 < 6)\n",
    "print(7 == 6)\n",
    "print(7 != 6)\n",
    "print(7 >= 6)\n",
    "print(7 <= 6)"
   ]
  },
  {
   "cell_type": "code",
   "execution_count": 22,
   "metadata": {},
   "outputs": [
    {
     "name": "stdout",
     "output_type": "stream",
     "text": [
      "Ingrese su nombre: rafa\n",
      "Ingrese un numero entero: 3\n",
      "rafarafarafa\n"
     ]
    }
   ],
   "source": [
    "# Escribir un programa que pregunte el nombre de la persona x consola y tambien que pida un numero entero x consola.\n",
    "# imprima el nombre de la persona tanta veces con el numero introducido.\n",
    "\n",
    "nombre = input(\"Ingrese su nombre: \")\n",
    "numero = int(input(\"Ingrese un numero entero: \"))\n",
    "print(nombre*numero)\n"
   ]
  },
  {
   "cell_type": "code",
   "execution_count": 23,
   "metadata": {},
   "outputs": [
    {
     "name": "stdout",
     "output_type": "stream",
     "text": [
      "como te llamas?: rafa\n",
      "indica un número: 5\n",
      "rafarafarafarafarafa\n"
     ]
    }
   ],
   "source": [
    "nombre = input (\"como te llamas?: \")\n",
    "numero = input (\"indica un número: \")\n",
    "print (nombre * int(numero))\n"
   ]
  },
  {
   "cell_type": "code",
   "execution_count": 24,
   "metadata": {},
   "outputs": [
    {
     "name": "stdout",
     "output_type": "stream",
     "text": [
      "ingrese un número12\n",
      "ingrese otro número95\n",
      "ingrese otro número95\n",
      "67.33333333333333\n"
     ]
    }
   ],
   "source": [
    "# escribir un programa donde se pida 3 notas y luego muestre por pantalla el promedio de ellas\n",
    "\n",
    "numero1=int(input(\"ingrese un número\"))\n",
    "numero2=int(input(\"ingrese otro número\"))\n",
    "numero3=int(input(\"ingrese otro número\"))\n",
    "print((numero1+numero2+numero3)/3)\n"
   ]
  },
  {
   "cell_type": "code",
   "execution_count": 25,
   "metadata": {},
   "outputs": [
    {
     "name": "stdout",
     "output_type": "stream",
     "text": [
      "ingresa nota 1: 4\n",
      "ingresa nota 2: 8\n",
      "ingresa nota 3: 9\n",
      "7.0\n"
     ]
    }
   ],
   "source": [
    "nota1 = input (\"ingresa nota 1: \")\n",
    "nota2 = input (\"ingresa nota 2: \")\n",
    "nota3 = input (\"ingresa nota 3: \")\n",
    "\n",
    "promedio = (int(nota1) + int(nota2) + int(nota3))/3 \n",
    "print (promedio)\n"
   ]
  },
  {
   "cell_type": "code",
   "execution_count": 26,
   "metadata": {},
   "outputs": [
    {
     "name": "stdout",
     "output_type": "stream",
     "text": [
      "Ingrese la primer nota: 8\n",
      "Ingrese la segunda nota: 7\n",
      "Ingrese la tercer nota: 8\n",
      "7.6499999999999995\n"
     ]
    }
   ],
   "source": [
    "# modificar el programa anterior de modo que la nota final sea la suma del 15% de la primer nota, el 35% de la segunda nota\n",
    "# y el 50% de la tercera.\n",
    "# imprimir x pantalla la nota final\n",
    "\n",
    "nota1 = input(\"Ingrese la primer nota: \")\n",
    "nota2 = input(\"Ingrese la segunda nota: \")\n",
    "nota3 = input(\"Ingrese la tercer nota: \")\n",
    "\n",
    "nota_final = float(nota1)*0.15 + float(nota2)*0.35 + float(nota3)*0.50\n",
    "\n",
    "print(nota_final)\n",
    "\n"
   ]
  },
  {
   "cell_type": "code",
   "execution_count": 27,
   "metadata": {},
   "outputs": [
    {
     "name": "stdout",
     "output_type": "stream",
     "text": [
      "Ingrese una nota: 8\n",
      "Ingrese una nota: 7\n",
      "Ingrese una nota: 8\n",
      "7.6499999999999995\n"
     ]
    }
   ],
   "source": [
    "nota1=float(input(\"Ingrese una nota: \"))*0.15\n",
    "nota2=float(input(\"Ingrese una nota: \"))*0.35\n",
    "nota3=float(input(\"Ingrese una nota: \"))*0.5   \n",
    "       \n",
    "notaFinal=(nota1+nota2+nota3)\n",
    "\n",
    "print(notaFinal)\n"
   ]
  },
  {
   "cell_type": "code",
   "execution_count": 28,
   "metadata": {},
   "outputs": [
    {
     "name": "stdout",
     "output_type": "stream",
     "text": [
      "Ingrese nota1 8\n",
      "Ingrese nota2 7\n",
      "Ingrese nota3 8\n",
      "Nota Final:  7.6499999999999995\n"
     ]
    }
   ],
   "source": [
    "nota1 = int(input(\"Ingrese nota1 \"))\n",
    "nota2 = int(input(\"Ingrese nota2 \"))\n",
    "nota3 = int(input(\"Ingrese nota3 \"))\n",
    "resultado = (nota1*0.15 + nota2*0.35 + nota3*0.50)\n",
    "print(\"Nota Final: \", resultado)\n"
   ]
  }
 ],
 "metadata": {
  "kernelspec": {
   "display_name": "Python 3",
   "language": "python",
   "name": "python3"
  },
  "language_info": {
   "codemirror_mode": {
    "name": "ipython",
    "version": 3
   },
   "file_extension": ".py",
   "mimetype": "text/x-python",
   "name": "python",
   "nbconvert_exporter": "python",
   "pygments_lexer": "ipython3",
   "version": "3.8.3"
  }
 },
 "nbformat": 4,
 "nbformat_minor": 4
}
