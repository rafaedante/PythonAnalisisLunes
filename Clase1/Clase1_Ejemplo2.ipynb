{
 "cells": [
  {
   "cell_type": "code",
   "execution_count": 1,
   "metadata": {},
   "outputs": [
    {
     "data": {
      "text/plain": [
       "True"
      ]
     },
     "execution_count": 1,
     "metadata": {},
     "output_type": "execute_result"
    }
   ],
   "source": [
    "# operaciones logicas (conjuncion)\n",
    "a = 30\n",
    "a > 1 and a < 35"
   ]
  },
  {
   "cell_type": "code",
   "execution_count": 2,
   "metadata": {},
   "outputs": [
    {
     "data": {
      "text/plain": [
       "True"
      ]
     },
     "execution_count": 2,
     "metadata": {},
     "output_type": "execute_result"
    }
   ],
   "source": [
    "True and True"
   ]
  },
  {
   "cell_type": "code",
   "execution_count": 3,
   "metadata": {},
   "outputs": [
    {
     "data": {
      "text/plain": [
       "False"
      ]
     },
     "execution_count": 3,
     "metadata": {},
     "output_type": "execute_result"
    }
   ],
   "source": [
    "True and False"
   ]
  },
  {
   "cell_type": "code",
   "execution_count": 4,
   "metadata": {},
   "outputs": [
    {
     "data": {
      "text/plain": [
       "False"
      ]
     },
     "execution_count": 4,
     "metadata": {},
     "output_type": "execute_result"
    }
   ],
   "source": [
    "False and False"
   ]
  },
  {
   "cell_type": "code",
   "execution_count": 5,
   "metadata": {},
   "outputs": [
    {
     "data": {
      "text/plain": [
       "True"
      ]
     },
     "execution_count": 5,
     "metadata": {},
     "output_type": "execute_result"
    }
   ],
   "source": [
    "# operaciones logicas (disyuncion)\n",
    "a = 30\n",
    "a == 1 or a < 35"
   ]
  },
  {
   "cell_type": "code",
   "execution_count": 6,
   "metadata": {},
   "outputs": [
    {
     "data": {
      "text/plain": [
       "True"
      ]
     },
     "execution_count": 6,
     "metadata": {},
     "output_type": "execute_result"
    }
   ],
   "source": [
    "True or True"
   ]
  },
  {
   "cell_type": "code",
   "execution_count": 7,
   "metadata": {},
   "outputs": [
    {
     "data": {
      "text/plain": [
       "True"
      ]
     },
     "execution_count": 7,
     "metadata": {},
     "output_type": "execute_result"
    }
   ],
   "source": [
    "True or False"
   ]
  },
  {
   "cell_type": "code",
   "execution_count": 8,
   "metadata": {},
   "outputs": [
    {
     "data": {
      "text/plain": [
       "False"
      ]
     },
     "execution_count": 8,
     "metadata": {},
     "output_type": "execute_result"
    }
   ],
   "source": [
    "False or False"
   ]
  },
  {
   "cell_type": "code",
   "execution_count": 9,
   "metadata": {},
   "outputs": [
    {
     "data": {
      "text/plain": [
       "False"
      ]
     },
     "execution_count": 9,
     "metadata": {},
     "output_type": "execute_result"
    }
   ],
   "source": [
    "# la negacion de comparaciones logicas, aca se utiliza la palabra reservada not\n",
    "not True"
   ]
  },
  {
   "cell_type": "code",
   "execution_count": 10,
   "metadata": {},
   "outputs": [
    {
     "data": {
      "text/plain": [
       "True"
      ]
     },
     "execution_count": 10,
     "metadata": {},
     "output_type": "execute_result"
    }
   ],
   "source": [
    "not False"
   ]
  },
  {
   "cell_type": "code",
   "execution_count": 13,
   "metadata": {},
   "outputs": [
    {
     "name": "stdout",
     "output_type": "stream",
     "text": [
      "a es mayor que 10\n",
      "sentencia fuera del condicional\n"
     ]
    }
   ],
   "source": [
    "#CONDICIONALES\n",
    "\n",
    "a = 11\n",
    "if a > 10:\n",
    "    print(\"a es mayor que 10\")\n",
    "    \n",
    "print(\"sentencia fuera del condicional\")"
   ]
  },
  {
   "cell_type": "code",
   "execution_count": 14,
   "metadata": {},
   "outputs": [
    {
     "name": "stdout",
     "output_type": "stream",
     "text": [
      "a es mayor que 10\n",
      "b es igual a 5 o a 5.5\n"
     ]
    }
   ],
   "source": [
    "if a > 10:\n",
    "    print(\"a es mayor que 10\")\n",
    "    b = 5\n",
    "    if b == 5 or b == 5.5:\n",
    "        print(\"b es igual a 5 o a 5.5\")\n",
    "    "
   ]
  },
  {
   "cell_type": "code",
   "execution_count": 15,
   "metadata": {},
   "outputs": [
    {
     "name": "stdout",
     "output_type": "stream",
     "text": [
      "a NO es mayor que 10\n"
     ]
    }
   ],
   "source": [
    "a = 8\n",
    "if a > 10:\n",
    "    print(\"a es mayor que 10\")\n",
    "else:\n",
    "    print(\"a NO es mayor que 10\")"
   ]
  },
  {
   "cell_type": "code",
   "execution_count": 17,
   "metadata": {},
   "outputs": [
    {
     "name": "stdout",
     "output_type": "stream",
     "text": [
      "a es mayor que 10\n"
     ]
    }
   ],
   "source": [
    "a = 12\n",
    "if a > 10:\n",
    "    print(\"a es mayor que 10\")\n",
    "if a < 10:\n",
    "    print(\"a NO es mayor que 10\")"
   ]
  },
  {
   "cell_type": "code",
   "execution_count": 20,
   "metadata": {},
   "outputs": [
    {
     "name": "stdout",
     "output_type": "stream",
     "text": [
      "a es igual a 3\n",
      "fin condiciones\n"
     ]
    }
   ],
   "source": [
    "a = 3\n",
    "if a == 1:\n",
    "    print(\"a es igual a 1\")\n",
    "elif a == 2:\n",
    "    print(\"a es igual a 2\")\n",
    "elif a == 3:\n",
    "    print(\"a es igual a 3\")\n",
    "elif a > 2 and a < 10:\n",
    "    print(\"a esta entre 3 y 9\")\n",
    "else:\n",
    "    print(\"a es igual o mayor a 10\")\n",
    "    \n",
    "\n",
    "    \n",
    "print(\"fin condiciones\")\n",
    "    "
   ]
  },
  {
   "cell_type": "code",
   "execution_count": 22,
   "metadata": {},
   "outputs": [
    {
     "name": "stdout",
     "output_type": "stream",
     "text": [
      "ingrese un número: 5\n",
      "ingrese otro número: 5\n",
      "ingrese 1 si desea sumar ambos números, 2 si desea restar el primero menos el segundo y 3 si desea multiplicarlos: 4\n",
      "Opción no valida\n"
     ]
    }
   ],
   "source": [
    "# Realizar un programa que lea dos numeros por teclado y permita ejegir entre 3 opciones de menu\n",
    "# 1 - mostrar la suma de los dos numeros\n",
    "# 2 - mostrar la resta de los dos numeros (el primero menos el segundo)\n",
    "# 3 - mostrar la multiplicacion de los dos numeros\n",
    "# nota: en caso de no introducir una opcion valida, el programa debe informar que es incorrecta\n",
    "\n",
    "numero1=int(input(\"ingrese un número: \"))\n",
    "numero2=int(input(\"ingrese otro número: \"))\n",
    "eleccion=int(input(\"ingrese 1 si desea sumar ambos números, 2 si desea restar el primero menos el segundo y 3 si desea multiplicarlos: \"))\n",
    "if eleccion==1:\n",
    "    print(numero1+numero2)\n",
    "elif eleccion==2:\n",
    "    print(numero1-numero2)\n",
    "elif eleccion==3:\n",
    "    print(numero1*numero2)\n",
    "else:\n",
    "    print(\"Opción no valida\")\n",
    "\n"
   ]
  },
  {
   "cell_type": "code",
   "execution_count": 24,
   "metadata": {},
   "outputs": [
    {
     "name": "stdout",
     "output_type": "stream",
     "text": [
      "Ingrese un primer número: 6\n",
      "Ingrese un segundo número: 4\n",
      "Elija 1. Suma / 2. Resta / 3. Multiplcacipon: 4\n",
      "opcion no valida\n"
     ]
    }
   ],
   "source": [
    "nro_1 = input (\"Ingrese un primer número: \")\n",
    "nro_2 = input (\"Ingrese un segundo número: \")\n",
    "\n",
    "opcion = int(input (\"Elija 1. Suma / 2. Resta / 3. Multiplcacipon: \"))\n",
    "\n",
    "if opcion == 1: \n",
    "    print (float(nro_1) + float(nro_2))\n",
    "elif opcion == 2:\n",
    "    print (float(nro_1) - float(nro_2))\n",
    "elif opcion == 3: \n",
    "    print (float(nro_1) * float(nro_2))\n",
    "else:\n",
    "     print (\"opcion no valida\") \n"
   ]
  }
 ],
 "metadata": {
  "kernelspec": {
   "display_name": "Python 3",
   "language": "python",
   "name": "python3"
  },
  "language_info": {
   "codemirror_mode": {
    "name": "ipython",
    "version": 3
   },
   "file_extension": ".py",
   "mimetype": "text/x-python",
   "name": "python",
   "nbconvert_exporter": "python",
   "pygments_lexer": "ipython3",
   "version": "3.8.3"
  }
 },
 "nbformat": 4,
 "nbformat_minor": 4
}
