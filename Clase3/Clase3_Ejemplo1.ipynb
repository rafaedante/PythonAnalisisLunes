{
 "cells": [
  {
   "cell_type": "code",
   "execution_count": 6,
   "metadata": {},
   "outputs": [
    {
     "name": "stdout",
     "output_type": "stream",
     "text": [
      "(100, 'Hola', [1, 2, 3, 4], -50, 3.14)\n",
      "<class 'tuple'>\n",
      "Hola\n",
      "3.14\n",
      "([1, 2, 3, 4], -50, 3.14)\n",
      "4\n"
     ]
    }
   ],
   "source": [
    "# Tuplas\n",
    "\n",
    "mi_tupla = (100, \"Hola\", [1, 2, 3, 4], -50, 3.14)\n",
    "print(mi_tupla)\n",
    "print(type(mi_tupla))\n",
    "print(mi_tupla[1])\n",
    "print(mi_tupla[-1])\n",
    "print(mi_tupla[2:])\n",
    "print(mi_tupla[2][-1])"
   ]
  },
  {
   "cell_type": "code",
   "execution_count": 8,
   "metadata": {},
   "outputs": [
    {
     "name": "stdout",
     "output_type": "stream",
     "text": [
      "0\n",
      "3\n",
      "3\n"
     ]
    }
   ],
   "source": [
    "tupla2 = (100, 100, 1000, 23, 100, [0, 100, 2])\n",
    "\n",
    "print(tupla2.index(100))\n",
    "print(tupla2.index(23))\n",
    "print(tupla2.count(100))"
   ]
  },
  {
   "cell_type": "code",
   "execution_count": 12,
   "metadata": {},
   "outputs": [
    {
     "name": "stdout",
     "output_type": "stream",
     "text": [
      "6\n",
      "3\n"
     ]
    }
   ],
   "source": [
    "#tupla2[0] = 101\n",
    "print(len(tupla2))\n",
    "print(len(tupla2[5]))"
   ]
  }
 ],
 "metadata": {
  "kernelspec": {
   "display_name": "Python 3",
   "language": "python",
   "name": "python3"
  },
  "language_info": {
   "codemirror_mode": {
    "name": "ipython",
    "version": 3
   },
   "file_extension": ".py",
   "mimetype": "text/x-python",
   "name": "python",
   "nbconvert_exporter": "python",
   "pygments_lexer": "ipython3",
   "version": "3.8.3"
  }
 },
 "nbformat": 4,
 "nbformat_minor": 4
}
