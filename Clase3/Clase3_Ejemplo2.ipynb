{
 "cells": [
  {
   "cell_type": "code",
   "execution_count": 1,
   "metadata": {},
   "outputs": [
    {
     "name": "stdout",
     "output_type": "stream",
     "text": [
      "<class 'dict'>\n"
     ]
    }
   ],
   "source": [
    "# Diccionarios\n",
    "\n",
    "mi_diccionario = {}\n",
    "print(type(mi_diccionario))"
   ]
  },
  {
   "cell_type": "code",
   "execution_count": 2,
   "metadata": {},
   "outputs": [
    {
     "name": "stdout",
     "output_type": "stream",
     "text": [
      "{'amarillo': 'yellow', 'azul': 'blue'}\n"
     ]
    }
   ],
   "source": [
    "colores = {'amarillo': 'yellow', 'azul': 'blue'}\n",
    "print(colores)"
   ]
  },
  {
   "cell_type": "code",
   "execution_count": 3,
   "metadata": {},
   "outputs": [
    {
     "name": "stdout",
     "output_type": "stream",
     "text": [
      "yellow\n"
     ]
    }
   ],
   "source": [
    "print(colores['amarillo'])"
   ]
  },
  {
   "cell_type": "code",
   "execution_count": 4,
   "metadata": {},
   "outputs": [
    {
     "name": "stdout",
     "output_type": "stream",
     "text": [
      "{'amarillo': 'yellow', 'azul': 'blue', 'verde': 'green'}\n"
     ]
    }
   ],
   "source": [
    "colores['verde'] = 'green'\n",
    "print(colores)"
   ]
  },
  {
   "cell_type": "code",
   "execution_count": 5,
   "metadata": {},
   "outputs": [
    {
     "name": "stdout",
     "output_type": "stream",
     "text": [
      "{'amarillo': 'white', 'azul': 'blue', 'verde': 'green'}\n"
     ]
    }
   ],
   "source": [
    "colores['amarillo'] = 'white'\n",
    "print(colores)"
   ]
  },
  {
   "cell_type": "code",
   "execution_count": 6,
   "metadata": {},
   "outputs": [
    {
     "name": "stdout",
     "output_type": "stream",
     "text": [
      "{'azul': 'blue', 'verde': 'green'}\n"
     ]
    }
   ],
   "source": [
    "del(colores['amarillo'])\n",
    "print(colores)"
   ]
  },
  {
   "cell_type": "code",
   "execution_count": 7,
   "metadata": {},
   "outputs": [
    {
     "name": "stdout",
     "output_type": "stream",
     "text": [
      "diez\n"
     ]
    }
   ],
   "source": [
    "numeros = {10: 'diez', 20: 'veinte'}\n",
    "print(numeros[10])"
   ]
  },
  {
   "cell_type": "code",
   "execution_count": 8,
   "metadata": {},
   "outputs": [
    {
     "name": "stdout",
     "output_type": "stream",
     "text": [
      "{'Hector': 28, 'Juan': 45, 'Maria': 25}\n"
     ]
    }
   ],
   "source": [
    "edades = {'Hector': 27, 'Juan': 45, 'Maria': 25}\n",
    "edades['Hector'] += 1\n",
    "print(edades)"
   ]
  },
  {
   "cell_type": "code",
   "execution_count": 9,
   "metadata": {},
   "outputs": [
    {
     "name": "stdout",
     "output_type": "stream",
     "text": [
      "Hector\n",
      "Juan\n",
      "Maria\n"
     ]
    }
   ],
   "source": [
    "# iterar un diccionario\n",
    "for edad in edades:\n",
    "    print(edad)"
   ]
  },
  {
   "cell_type": "code",
   "execution_count": 10,
   "metadata": {},
   "outputs": [
    {
     "name": "stdout",
     "output_type": "stream",
     "text": [
      "Hector 28\n",
      "Juan 45\n",
      "Maria 25\n"
     ]
    }
   ],
   "source": [
    "for clave in edades:\n",
    "    print(clave, edades[clave])"
   ]
  },
  {
   "cell_type": "code",
   "execution_count": 11,
   "metadata": {},
   "outputs": [
    {
     "name": "stdout",
     "output_type": "stream",
     "text": [
      "Hector 28\n",
      "Juan 45\n",
      "Maria 25\n"
     ]
    }
   ],
   "source": [
    "for clave, valor in edades.items():\n",
    "    print(clave, valor)"
   ]
  },
  {
   "cell_type": "code",
   "execution_count": 13,
   "metadata": {},
   "outputs": [
    {
     "name": "stdout",
     "output_type": "stream",
     "text": [
      "[{'Nombre': 'Gandalf', 'Clase': 'Mago', 'Raza': 'Humano'}, {'Nombre': 'legolas', 'Clase': 'Arquero', 'Raza': 'Elfo'}, {'Nombre': 'gimli', 'Clase': 'Guerrero', 'Raza': 'Enano'}]\n"
     ]
    }
   ],
   "source": [
    "personajes = []\n",
    "gandalf = {'Nombre': 'Gandalf', 'Clase': 'Mago', 'Raza': 'Humano'}\n",
    "legolas = {'Nombre': 'legolas', 'Clase': 'Arquero', 'Raza': 'Elfo'}\n",
    "gimli = {'Nombre': 'gimli', 'Clase': 'Guerrero', 'Raza': 'Enano'}\n",
    "\n",
    "personajes.append(gandalf)\n",
    "personajes.append(legolas)\n",
    "personajes.append(gimli)\n",
    "\n",
    "print(personajes)"
   ]
  },
  {
   "cell_type": "code",
   "execution_count": 23,
   "metadata": {},
   "outputs": [
    {
     "name": "stdout",
     "output_type": "stream",
     "text": [
      "{'Nombre': 'Gandalf', 'Clase': 'Mago', 'Raza': 'Humano'}\n",
      "Gandalf Mago Humano\n",
      "{'Nombre': 'legolas', 'Clase': 'Arquero', 'Raza': 'Elfo'}\n",
      "legolas Arquero Elfo\n",
      "{'Nombre': 'gimli', 'Clase': 'Guerrero', 'Raza': 'Enano'}\n",
      "gimli Guerrero Enano\n"
     ]
    }
   ],
   "source": [
    "for personaje in personajes:\n",
    "    #print(type(personajes))\n",
    "    print(personaje)\n",
    "    print(personaje['Nombre'], personaje['Clase'], personaje['Raza'])"
   ]
  },
  {
   "cell_type": "code",
   "execution_count": 16,
   "metadata": {},
   "outputs": [
    {
     "name": "stdout",
     "output_type": "stream",
     "text": [
      "5\n"
     ]
    }
   ],
   "source": [
    "# escribir un programa que almacene los vectores (1, 2, 3) y (-1, 0, 2) en dos tuplas\n",
    "# se pide que muestre por pantalla su producto escalar\n",
    "\n",
    "tupla1 = (1,2,3)\n",
    "tupla2 = (-1,0,2)\n",
    "\n",
    "valor1 = tupla1[0] * tupla2[0]\n",
    "valor2 = tupla1[1] * tupla2[1]\n",
    "valor3 = tupla1[2] * tupla2[2]\n",
    "\n",
    "resultado = valor1+valor2+valor3\n",
    "print(resultado)\n"
   ]
  },
  {
   "cell_type": "code",
   "execution_count": 17,
   "metadata": {},
   "outputs": [
    {
     "name": "stdout",
     "output_type": "stream",
     "text": [
      "5\n"
     ]
    }
   ],
   "source": [
    "tupla_1 = (1, 2, 3)\n",
    "tupla_2 = (-1, 0, 2)\n",
    "\n",
    "escalar = 0\n",
    "\n",
    "for i in range(len(tupla_1)):\n",
    "    escalar = escalar + tupla_1[i] * tupla_2[i]\n",
    "    \n",
    "print (escalar)\n"
   ]
  },
  {
   "cell_type": "code",
   "execution_count": 18,
   "metadata": {},
   "outputs": [
    {
     "data": {
      "text/plain": [
       "5"
      ]
     },
     "execution_count": 18,
     "metadata": {},
     "output_type": "execute_result"
    }
   ],
   "source": [
    "tupla1 = (1,2,3)\n",
    "tupla2 = (-1,0,2)\n",
    "\n",
    "def producto_escalar():\n",
    "    resultado = 0\n",
    "    for e in range(len(tupla1)):\n",
    "        resultado = resultado + tupla1[e]*tupla2[e]\n",
    "    return resultado\n",
    "\n",
    "producto_escalar()\n"
   ]
  },
  {
   "cell_type": "code",
   "execution_count": 24,
   "metadata": {},
   "outputs": [
    {
     "name": "stdout",
     "output_type": "stream",
     "text": [
      "ingrese frutaManzana\n",
      "ingrese cantidad en kilos4\n"
     ]
    },
    {
     "data": {
      "text/plain": [
       "600"
      ]
     },
     "execution_count": 24,
     "metadata": {},
     "output_type": "execute_result"
    }
   ],
   "source": [
    "# escrbir un programa que guarde en un diccionario precios de las frutas de la tabla (mas abajo)\n",
    "# el programa debe preguntar al usuario por una fruta, un numero de kilos y que muestre por pantalla\n",
    "# el precio de ese numero de kilos de frutas\n",
    "# si la fruta que pidio el usuario no este en el diccionario debe mostrar un mensaje que no tiene ese fruta\n",
    "\n",
    "\"\"\"\n",
    "    Fruta    Precio x Kg\n",
    "    Banana   100\n",
    "    Manzana  150\n",
    "    Pera     90\n",
    "    Naranja  50\n",
    "    Melon    120\n",
    "\"\"\"\n",
    "\n",
    "frutas={\"Banana\":100, \"Manzana\": 150, \"Pera\":90, \"Naranja\":50, \"Melon\":120 }\n",
    "\n",
    "def precio(fruta, kilos):\n",
    "    if fruta not in frutas: \n",
    "        print(\"No tenemos esa fruta\")\n",
    "    else:\n",
    "        precio=frutas[fruta]\n",
    "        precioFinal=precio*kilos\n",
    "        return(precioFinal)\n",
    "    \n",
    "fruta=input(\"ingrese fruta\")\n",
    "cantidad=int(input(\"ingrese cantidad en kilos\"))\n",
    "\n",
    "precio(fruta, cantidad)\n"
   ]
  },
  {
   "cell_type": "code",
   "execution_count": 26,
   "metadata": {},
   "outputs": [
    {
     "name": "stdout",
     "output_type": "stream",
     "text": [
      "Ingrese la fruta a elegir: A\n",
      "Esa fruta no se encuentra en el catálogo\n"
     ]
    }
   ],
   "source": [
    "precios_frutas = {'Banana': 100, 'Manzana': 150, 'Pera': 90, 'Naranja':50, 'Melon': 120}\n",
    "\n",
    "fruta = input(\"Ingrese la fruta a elegir: \")\n",
    "\n",
    "if fruta in precios_frutas:\n",
    "    cantidad = float(input(\"Ingrese la cantidad de kilos: \"))\n",
    "    precio_final = int(precios_frutas[fruta]) * cantidad\n",
    "    print(precio_final)\n",
    "\n",
    "else:\n",
    "    print (\"Esa fruta no se encuentra en el catálogo\")\n"
   ]
  },
  {
   "cell_type": "code",
   "execution_count": 28,
   "metadata": {},
   "outputs": [
    {
     "name": "stdout",
     "output_type": "stream",
     "text": [
      "Ingresar una frutaBanana\n",
      "Ingresar la cantidad en kilos5\n",
      "500\n"
     ]
    }
   ],
   "source": [
    "frutas={\n",
    "    \"Banana\":100,\n",
    "    \"Manzana\":150,\n",
    "    \"Pera\":90,\n",
    "    \"Naranja\":50,\n",
    "    \"Melon\":120\n",
    "}\n",
    "\n",
    "def calcularPrecio(fruta,kilos):\n",
    "    precio=0\n",
    "    for clave in frutas:\n",
    "        if clave==fruta:\n",
    "            precio=frutas[clave]*kilos\n",
    "        \n",
    "    if precio!=0:\n",
    "        print(precio)\n",
    "    else:\n",
    "        print(\"No se dispone de la fruta\")\n",
    "\n",
    "Fruta=input(\"Ingresar una fruta\")\n",
    "Kilos=int(input(\"Ingresar la cantidad en kilos\"))\n",
    "\n",
    "calcularPrecio(Fruta,Kilos)\n"
   ]
  },
  {
   "cell_type": "code",
   "execution_count": 30,
   "metadata": {},
   "outputs": [
    {
     "name": "stdout",
     "output_type": "stream",
     "text": [
      "Ingrese nombre del producto: Notebook\n",
      "Ingrese precio del producto: 15000\n",
      "\n",
      "Ingrese s si quiere continuar o n si no s\n",
      "Ingrese nombre del producto: Celular\n",
      "Ingrese precio del producto: 10000\n",
      "\n",
      "Ingrese s si quiere continuar o n si no s\n",
      "Ingrese nombre del producto: Tablet\n",
      "Ingrese precio del producto: 12000\n",
      "\n",
      "Ingrese s si quiere continuar o n si no n\n",
      "Listado de compras\n",
      "Notebook 15000.0\n",
      "Celular 10000.0\n",
      "Tablet 12000.0\n",
      "TOTAL\n",
      "37000.0\n"
     ]
    }
   ],
   "source": [
    "# escribir un programa que cree un diccionario simulando un carrito de compra\n",
    "# el programa debe preguntar el articulo y su precio y añadir al diccionario hasta que el usuario decida terminar\n",
    "# finalmente se debe mostrar por pantalla la lista de compras y el costo total\n",
    "# ejemplo\n",
    "\"\"\"\n",
    "    Listado de Compras\n",
    "    Articulo1    Precio\n",
    "    Articulo2    Precio\n",
    "    ..........\n",
    "    ..........\n",
    "    Total       CostoTotal\n",
    "\"\"\"\n",
    "\n",
    "dic={}\n",
    "r=\"s\"\n",
    "while(r==\"s\"):\n",
    "    producto=input(\"Ingrese nombre del producto: \")\n",
    "    precio=float(input(\"Ingrese precio del producto: \"))\n",
    "    dic[producto]=precio\n",
    "    print()\n",
    "    r=input(\"Ingrese s si quiere continuar o n si no \")\n",
    "\n",
    "total=0\n",
    "print(\"Listado de compras\")\n",
    "for clave, valor in dic.items():    \n",
    "    print(clave, valor)\n",
    "    total=total+valor\n",
    "\n",
    "print(\"TOTAL\")\n",
    "print(total)\n"
   ]
  },
  {
   "cell_type": "code",
   "execution_count": 31,
   "metadata": {},
   "outputs": [
    {
     "name": "stdout",
     "output_type": "stream",
     "text": [
      "Ingresa un articulo: Notebook\n",
      "Ingrese el precio: 15000\n",
      "Desea terminar si/no: n\n",
      "Ingresa un articulo: Celular\n",
      "Ingrese el precio: 13000\n",
      "Desea terminar si/no: n\n",
      "Ingresa un articulo: Mouse\n",
      "Ingrese el precio: 4000\n",
      "Desea terminar si/no: si\n",
      "Listado de Compras\n",
      "Notebook 15000.0\n",
      "Celular 13000.0\n",
      "Mouse 4000.0\n",
      "Total 32000.0\n"
     ]
    }
   ],
   "source": [
    "carrito={}\n",
    "\n",
    "def agregarArticulo(articulo,precio):\n",
    "    carrito[articulo]=precio\n",
    "\n",
    "def imprimir():\n",
    "    print(\"Listado de Compras\")\n",
    "    precioTotal=0\n",
    "    for articulo,valor in carrito.items():\n",
    "        precioTotal+=valor\n",
    "        print(articulo,valor)\n",
    "    print(\"Total\",precioTotal)\n",
    "\n",
    "while True:\n",
    "    articulo=input(\"Ingresa un articulo: \")\n",
    "    precio=float(input(\"Ingrese el precio: \"))\n",
    "    agregarArticulo(articulo,precio)\n",
    "    Salir=input(\"Desea terminar si/no: \")\n",
    "    if Salir==\"si\":\n",
    "        break\n",
    "\n",
    "imprimir()\n"
   ]
  },
  {
   "cell_type": "code",
   "execution_count": 32,
   "metadata": {},
   "outputs": [
    {
     "name": "stdout",
     "output_type": "stream",
     "text": [
      "Ingrese Articulo:Notebook\n",
      "Ingrese Precio:15000\n",
      "Desea seguir? s/n:s\n",
      "Ingrese Articulo:Tablet\n",
      "Ingrese Precio:10000\n",
      "Desea seguir? s/n:Mouse\n",
      "{'Notebook': {15000.0}, 'Celular': 13000.0, 'Mouse': 4000.0, 'Tablet': {10000.0}}\n",
      "25000.0\n"
     ]
    }
   ],
   "source": [
    "continua = 's'\n",
    "suma = 0.0\n",
    "while continua == 's':\n",
    "    articulo = input (\"Ingrese Articulo:\")\n",
    "    precio = float(input (\"Ingrese Precio:\"))\n",
    "    carrito[articulo] = {precio}\n",
    "    continua = input(\"Desea seguir? s/n:\")\n",
    "    suma = suma + precio\n",
    "    \n",
    "print (carrito)\n",
    "print (suma)\n",
    "\n"
   ]
  }
 ],
 "metadata": {
  "kernelspec": {
   "display_name": "Python 3",
   "language": "python",
   "name": "python3"
  },
  "language_info": {
   "codemirror_mode": {
    "name": "ipython",
    "version": 3
   },
   "file_extension": ".py",
   "mimetype": "text/x-python",
   "name": "python",
   "nbconvert_exporter": "python",
   "pygments_lexer": "ipython3",
   "version": "3.8.3"
  }
 },
 "nbformat": 4,
 "nbformat_minor": 4
}
