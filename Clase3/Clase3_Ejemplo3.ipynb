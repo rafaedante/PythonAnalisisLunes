{
 "cells": [
  {
   "cell_type": "code",
   "execution_count": 1,
   "metadata": {},
   "outputs": [
    {
     "name": "stdout",
     "output_type": "stream",
     "text": [
      "Has creado una instancia de mi clase\n"
     ]
    }
   ],
   "source": [
    "# POO\n",
    "\n",
    "class MiClase:\n",
    "    \n",
    "    def __init__(self):\n",
    "        print(\"Has creado una instancia de mi clase\")\n",
    "\n",
    "mi_objeto = MiClase()"
   ]
  },
  {
   "cell_type": "code",
   "execution_count": 2,
   "metadata": {},
   "outputs": [
    {
     "name": "stdout",
     "output_type": "stream",
     "text": [
      "Soy un atributo privado, inancalzable desde afuera\n",
      "soy un metodo privado\n"
     ]
    }
   ],
   "source": [
    "class Ejemplo:\n",
    "    __atributo_privado = \"Soy un atributo privado, inancalzable desde afuera\"\n",
    "    \n",
    "    def __metodo_privado(self):\n",
    "        print(\"soy un metodo privado\")\n",
    "    \n",
    "    def atributo_publico(self):\n",
    "        return self.__atributo_privado\n",
    "    \n",
    "    def metodo_publico(self):\n",
    "        return self.__metodo_privado()\n",
    "    \n",
    "\n",
    "e = Ejemplo()\n",
    "print(e.atributo_publico())\n",
    "e.metodo_publico()\n",
    "    "
   ]
  },
  {
   "cell_type": "code",
   "execution_count": 3,
   "metadata": {},
   "outputs": [
    {
     "name": "stdout",
     "output_type": "stream",
     "text": [
      "Se ha creado la pelicula El Padrino\n",
      "El Padrino (1972)\n",
      "Se ha creado la pelicula El Padrino: Parte 2\n",
      "El Padrino (1972)\n",
      "El Padrino: Parte 2 (1974)\n"
     ]
    }
   ],
   "source": [
    "class Pelicula:\n",
    "    \n",
    "    def __init__(self, titulo, duracion, lanzamiento):\n",
    "        self.titulo = titulo\n",
    "        self.duracion = duracion\n",
    "        self.lanzamiento = lanzamiento\n",
    "        print(\"Se ha creado la pelicula\", self.titulo)\n",
    "        \n",
    "    def __str__(self):\n",
    "        return '{} ({})'. format(self.titulo, self.lanzamiento)\n",
    "    \n",
    "class Catalogo:\n",
    "    peliculas = []\n",
    "    \n",
    "    def __init__(self, peliculas = []):\n",
    "        self.peliculas = peliculas\n",
    "        \n",
    "    def agregar(self, p):\n",
    "        self.peliculas.append(p)\n",
    "        \n",
    "    def mostrar(self):\n",
    "        for p in self.peliculas:\n",
    "            print(p)\n",
    "            \n",
    "\n",
    "p = Pelicula(\"El Padrino\", 175, 1972)\n",
    "c = Catalogo([p])\n",
    "c.mostrar()\n",
    "c.agregar(Pelicula(\"El Padrino: Parte 2\", 200, 1974))\n",
    "c.mostrar()\n",
    "        "
   ]
  }
 ],
 "metadata": {
  "kernelspec": {
   "display_name": "Python 3",
   "language": "python",
   "name": "python3"
  },
  "language_info": {
   "codemirror_mode": {
    "name": "ipython",
    "version": 3
   },
   "file_extension": ".py",
   "mimetype": "text/x-python",
   "name": "python",
   "nbconvert_exporter": "python",
   "pygments_lexer": "ipython3",
   "version": "3.8.3"
  }
 },
 "nbformat": 4,
 "nbformat_minor": 4
}
