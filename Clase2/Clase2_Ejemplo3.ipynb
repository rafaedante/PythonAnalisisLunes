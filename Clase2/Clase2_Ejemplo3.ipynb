{
 "cells": [
  {
   "cell_type": "code",
   "execution_count": 5,
   "metadata": {},
   "outputs": [
    {
     "name": "stdout",
     "output_type": "stream",
     "text": [
      "40\n",
      "hoy es lunes\n",
      "inicia la semana\n",
      "mas texto\n",
      "12\n",
      "hoy es lunes\n",
      "inicia la semana\n",
      "mas texto\n",
      "---------------\n",
      "15\n"
     ]
    }
   ],
   "source": [
    "# Funciones\n",
    "\n",
    "def imprimir_texto():\n",
    "    print(\"hoy es lunes\")\n",
    "    print(\"inicia la semana\")\n",
    "    print(\"mas texto\")\n",
    "    \n",
    "def imprimir_suma(num1, num2):\n",
    "    total = num1 + num2\n",
    "    print(total)\n",
    "    \n",
    "def suma(num1, num2):\n",
    "    total = num1 + num2\n",
    "    return total\n",
    "\n",
    "a = 10\n",
    "b = 30\n",
    "imprimir_suma(a,b)\n",
    "imprimir_texto()\n",
    "#total = a + b\n",
    "#print(total)\n",
    "#print(\"hoy es lunes\")\n",
    "#print(\"inicia la semana\")\n",
    "\n",
    "c = 5\n",
    "d = 7\n",
    "imprimir_suma(c,d)\n",
    "imprimir_texto()\n",
    "#total = c + d\n",
    "#print(total)\n",
    "#print(\"hoy es lunes\")\n",
    "#print(\"inicia la semana\")\n",
    "\n",
    "print(\"---------------\")\n",
    "resultado = suma(c,a)\n",
    "print(resultado)"
   ]
  },
  {
   "cell_type": "code",
   "execution_count": 2,
   "metadata": {},
   "outputs": [
    {
     "name": "stdout",
     "output_type": "stream",
     "text": [
      "13.3\n",
      "121.0\n"
     ]
    }
   ],
   "source": [
    "# Escribir un programa que calcule el total de una factura tras aplicarle el IVA\n",
    "# la funcion debe recibir la cantidad sin IVA y el porcentaje de IVA a aplicar\n",
    "# la F(x) debe devolver el total de la factura\n",
    "# si se invoca a la funcion sin pasarle el porcentaje de IVA, debera aplicarle por defecto un 21%\n",
    "\n",
    "def calcularFactura(monto, IVA=21):    \n",
    "    IVAfinal = IVA *0.01 +1\n",
    "    valorFinal = monto * IVAfinal\n",
    "    print(valorFinal)\n",
    "    \n",
    "calcularFactura(10,33)\n",
    "calcularFactura(100)\n"
   ]
  },
  {
   "cell_type": "code",
   "execution_count": 5,
   "metadata": {},
   "outputs": [
    {
     "name": "stdout",
     "output_type": "stream",
     "text": [
      "El total de la factura es  1210.0\n"
     ]
    }
   ],
   "source": [
    "def getTotalfacturas(cantidadItems=0, precioUnitario=0, porcentajeIVA=21):\n",
    "    \"\"\"\n",
    "    Retorna del valor total de la factura a partir de este calculo:\n",
    "    total = p * q * coeficienteiva\n",
    "    \"\"\"\n",
    "    return cantidadItems * precioUnitario * (1 + (porcentajeIVA / 100))\n",
    "\n",
    "\n",
    "print('El total de la factura es ', getTotalfacturas(10,100))"
   ]
  },
  {
   "cell_type": "code",
   "execution_count": 7,
   "metadata": {},
   "outputs": [
    {
     "data": {
      "text/plain": [
       "[2, 4, 6, 8, 10]"
      ]
     },
     "execution_count": 7,
     "metadata": {},
     "output_type": "execute_result"
    }
   ],
   "source": [
    "# Realizar una funcion rango(desde, hasta, incremento) y que actue igual a la funcion range de python\n",
    "# la F(x) debe devolver una lista desde el numero de inicio al final incrementado la cantidad que se ingreso por parametro\n",
    "# Ejemplo [10,20,30,40,50,60]\n",
    "\n",
    "def rango(desde,hasta,incremento):\n",
    "    \n",
    "    regreso = []\n",
    "    cuenta = desde\n",
    "    while cuenta <= hasta:\n",
    "        regreso.append(cuenta)\n",
    "        cuenta = cuenta + incremento\n",
    "    return regreso\n",
    "\n",
    "rango (2,10,2)\n",
    "\n",
    "\n",
    "\n"
   ]
  },
  {
   "cell_type": "code",
   "execution_count": 8,
   "metadata": {},
   "outputs": [
    {
     "name": "stdout",
     "output_type": "stream",
     "text": [
      "[10, 20, 30, 40, 50, 60]\n"
     ]
    }
   ],
   "source": [
    "def rango(desde,hasta,incremento):\n",
    "    lista = []\n",
    "    for i in range(desde, hasta, incremento):\n",
    "        lista.append(i)\n",
    "    return lista\n",
    "\n",
    "print(rango(10,70,10))\n",
    "    \n",
    "    "
   ]
  }
 ],
 "metadata": {
  "kernelspec": {
   "display_name": "Python 3",
   "language": "python",
   "name": "python3"
  },
  "language_info": {
   "codemirror_mode": {
    "name": "ipython",
    "version": 3
   },
   "file_extension": ".py",
   "mimetype": "text/x-python",
   "name": "python",
   "nbconvert_exporter": "python",
   "pygments_lexer": "ipython3",
   "version": "3.8.3"
  }
 },
 "nbformat": 4,
 "nbformat_minor": 4
}
