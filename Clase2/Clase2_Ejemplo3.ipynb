{
 "cells": [
  {
   "cell_type": "code",
   "execution_count": 4,
   "metadata": {},
   "outputs": [
    {
     "name": "stdout",
     "output_type": "stream",
     "text": [
      "40\n",
      "hoy es lunes\n",
      "inicia la semana\n",
      "mas texto\n",
      "12\n",
      "hoy es lunes\n",
      "inicia la semana\n",
      "mas texto\n"
     ]
    }
   ],
   "source": [
    "# Funciones\n",
    "\n",
    "def imprimir_texto():\n",
    "    print(\"hoy es lunes\")\n",
    "    print(\"inicia la semana\")\n",
    "    print(\"mas texto\")\n",
    "    \n",
    "def imprimir_suma(num1, num2):\n",
    "    total = num1 + num2\n",
    "    print(total)\n",
    "    \n",
    "def suma(num1, num2):\n",
    "    total = num1 + num2\n",
    "    return total\n",
    "\n",
    "a = 10\n",
    "b = 30\n",
    "imprimir_suma(a,b)\n",
    "imprimir_texto()\n",
    "#total = a + b\n",
    "#print(total)\n",
    "#print(\"hoy es lunes\")\n",
    "#print(\"inicia la semana\")\n",
    "\n",
    "c = 5\n",
    "d = 7\n",
    "imprimir_suma(c,d)\n",
    "imprimir_texto()\n",
    "#total = c + d\n",
    "#print(total)\n",
    "#print(\"hoy es lunes\")\n",
    "#print(\"inicia la semana\")\n",
    "\n",
    "print(\"---------------\")\n",
    "resultado = suma(c)"
   ]
  }
 ],
 "metadata": {
  "kernelspec": {
   "display_name": "Python 3",
   "language": "python",
   "name": "python3"
  },
  "language_info": {
   "codemirror_mode": {
    "name": "ipython",
    "version": 3
   },
   "file_extension": ".py",
   "mimetype": "text/x-python",
   "name": "python",
   "nbconvert_exporter": "python",
   "pygments_lexer": "ipython3",
   "version": "3.8.3"
  }
 },
 "nbformat": 4,
 "nbformat_minor": 4
}
