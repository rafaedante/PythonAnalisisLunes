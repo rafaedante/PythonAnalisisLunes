{
 "cells": [
  {
   "cell_type": "code",
   "execution_count": 6,
   "metadata": {},
   "outputs": [
    {
     "name": "stdout",
     "output_type": "stream",
     "text": [
      "[2, 7, 12, 30, 55, 100]\n",
      "['hola', 'chau', 'lunes', 'tarde']\n",
      "[True, 45, 5.89, False, 'Hola']\n"
     ]
    }
   ],
   "source": [
    "# Lista de numeros enteros\n",
    "numeros = [2, 7, 12, 30, 55, 100]\n",
    "\n",
    "# Lista de textos o cadenas\n",
    "cadenas = [\"hola\", \"chau\",\"lunes\", \"tarde\"]\n",
    "\n",
    "#lista de distintos tipos\n",
    "datos = [True, 45, 5.89, False, \"Hola\"]\n",
    "\n",
    "print(numeros)\n",
    "print(cadenas)\n",
    "print(datos)\n"
   ]
  },
  {
   "cell_type": "code",
   "execution_count": 2,
   "metadata": {},
   "outputs": [
    {
     "name": "stdout",
     "output_type": "stream",
     "text": [
      "2\n",
      "7\n",
      "12\n",
      "30\n"
     ]
    }
   ],
   "source": [
    "# indice positivo se accede de izquierda a derecha\n",
    "print(numeros[0])\n",
    "print(numeros[1])\n",
    "print(numeros[2])\n",
    "print(numeros[3])"
   ]
  },
  {
   "cell_type": "code",
   "execution_count": 3,
   "metadata": {},
   "outputs": [
    {
     "name": "stdout",
     "output_type": "stream",
     "text": [
      "30\n"
     ]
    }
   ],
   "source": [
    "#indice negativo se accede de derecha a izquierda\n",
    "print(numeros[-1])"
   ]
  },
  {
   "cell_type": "code",
   "execution_count": 10,
   "metadata": {},
   "outputs": [
    {
     "name": "stdout",
     "output_type": "stream",
     "text": [
      "[2, 7, 12, 30, 55, 100]\n",
      "[30, 55, 100]\n",
      "[2, 7, 12]\n",
      "[55, 100]\n"
     ]
    }
   ],
   "source": [
    "print(numeros)\n",
    "print(numeros[3:6]) # imprime la sublista que va desde el 3er elemento hasta el 5to inclusive\n",
    "print(numeros[:3])  # imprime la sublista que contenga los primeros 3 elementos de la lista\n",
    "print(numeros[-2:]) # imprime la sublista que contenga los 2 ultimos elementos de la lista"
   ]
  },
  {
   "cell_type": "code",
   "execution_count": 12,
   "metadata": {},
   "outputs": [
    {
     "name": "stdout",
     "output_type": "stream",
     "text": [
      "[2, 7, 12, 30, 55, 100, 40]\n",
      "[2, 7, 200, 12, 30, 55, 100, 40]\n"
     ]
    }
   ],
   "source": [
    "# funcion append(elemento): agrega un elemento al final de la lista\n",
    "numeros.append(40)\n",
    "print(numeros)\n",
    "\n",
    "# funcion insert(posicion, elemento): agrega un elemento en el lugar que le indiquemos\n",
    "numeros.insert(2, 200)\n",
    "print(numeros)"
   ]
  },
  {
   "cell_type": "code",
   "execution_count": 13,
   "metadata": {},
   "outputs": [
    {
     "name": "stdout",
     "output_type": "stream",
     "text": [
      "8\n"
     ]
    }
   ],
   "source": [
    "# len(lista): devuelve la cantidad de elementos de una lista\n",
    "print(len(numeros))"
   ]
  },
  {
   "cell_type": "code",
   "execution_count": 14,
   "metadata": {},
   "outputs": [
    {
     "data": {
      "text/plain": [
       "[2, 7, 200, 30, 55, 100, 40]"
      ]
     },
     "execution_count": 14,
     "metadata": {},
     "output_type": "execute_result"
    }
   ],
   "source": [
    "# funcion del : elimina elementos de una lista\n",
    "del numeros[3]\n",
    "#del numeros[1:4] # borra elementos en ese rango\n",
    "numeros"
   ]
  },
  {
   "cell_type": "code",
   "execution_count": 18,
   "metadata": {},
   "outputs": [
    {
     "name": "stdout",
     "output_type": "stream",
     "text": [
      "[23, 45, 67]\n",
      "[True, False, 5.13]\n",
      "23\n",
      "45\n",
      "67\n",
      "True\n",
      "False\n",
      "5.13\n",
      "[23, 45, 67, 66]\n"
     ]
    }
   ],
   "source": [
    "# MATRICES\n",
    "\n",
    "lista_vacia = []\n",
    "matriz = [[23,45,67], [True, False, 5.13]]\n",
    "print(matriz[0])\n",
    "print(matriz[1])\n",
    "\n",
    "# formas de acceder a los elementos de la matriz\n",
    "print(matriz[0][0])\n",
    "print(matriz[0][1])\n",
    "print(matriz[0][2])\n",
    "print(matriz[1][0])\n",
    "print(matriz[1][1])\n",
    "print(matriz[1][2])\n",
    "\n",
    "# agregar elemento a matriz\n",
    "matriz[0].append(66)\n",
    "print(matriz[0])"
   ]
  }
 ],
 "metadata": {
  "kernelspec": {
   "display_name": "Python 3",
   "language": "python",
   "name": "python3"
  },
  "language_info": {
   "codemirror_mode": {
    "name": "ipython",
    "version": 3
   },
   "file_extension": ".py",
   "mimetype": "text/x-python",
   "name": "python",
   "nbconvert_exporter": "python",
   "pygments_lexer": "ipython3",
   "version": "3.8.3"
  }
 },
 "nbformat": 4,
 "nbformat_minor": 4
}
