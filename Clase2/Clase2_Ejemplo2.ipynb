{
 "cells": [
  {
   "cell_type": "code",
   "execution_count": 2,
   "metadata": {},
   "outputs": [
    {
     "name": "stdout",
     "output_type": "stream",
     "text": [
      "1\n",
      "2\n",
      "3\n",
      "4\n",
      "contador es igual a 5, salimos del bucle\n",
      "salimos del bucle while\n"
     ]
    }
   ],
   "source": [
    "contador = 1\n",
    "while contador < 10:\n",
    "    print(contador)\n",
    "    contador = contador + 1\n",
    "    if contador == 5:\n",
    "        print(\"contador\")\n",
    "        break\n",
    "#    print(\"mas codigo\")\n",
    "    \n",
    "print(\"salimos del bucle while\")"
   ]
  },
  {
   "cell_type": "code",
   "execution_count": 3,
   "metadata": {},
   "outputs": [
    {
     "name": "stdout",
     "output_type": "stream",
     "text": [
      "2\n",
      "3\n",
      "4\n",
      "5\n",
      "11\n",
      "13\n"
     ]
    }
   ],
   "source": [
    "n = [2 , 3, 4, 5, 11, 13]\n",
    "i = 0\n",
    "\n",
    "while i < len(n):\n",
    "    print(n[i])\n",
    "    i = i + 1"
   ]
  },
  {
   "cell_type": "code",
   "execution_count": 4,
   "metadata": {},
   "outputs": [
    {
     "name": "stdout",
     "output_type": "stream",
     "text": [
      "2\n",
      "3\n",
      "4\n",
      "5\n",
      "11\n",
      "13\n"
     ]
    }
   ],
   "source": [
    "for i in n:\n",
    "    print(i)"
   ]
  },
  {
   "cell_type": "code",
   "execution_count": 6,
   "metadata": {},
   "outputs": [
    {
     "name": "stdout",
     "output_type": "stream",
     "text": [
      "52\n"
     ]
    }
   ],
   "source": [
    "# Ejercicio\n",
    "# lista = [2, 3, 5, 12, 30]\n",
    "# hagan un programa que imprima la suma de los elementos de la lista\n",
    "\n",
    "lista = [2, 3, 5, 12, 30]\n",
    "suma = 0\n",
    "for i in lista:\n",
    "    suma = suma + i\n",
    "    \n",
    "print(suma)\n",
    "\n"
   ]
  },
  {
   "cell_type": "code",
   "execution_count": 7,
   "metadata": {},
   "outputs": [
    {
     "name": "stdout",
     "output_type": "stream",
     "text": [
      "52\n"
     ]
    }
   ],
   "source": [
    "lista = [2, 3, 5, 12, 30]\n",
    "\n",
    "n = 0\n",
    "suma = 0\n",
    "while n < len(lista):\n",
    "    suma = suma + lista[n]\n",
    "    n = n+1\n",
    "    \n",
    "print(suma)\n"
   ]
  },
  {
   "cell_type": "code",
   "execution_count": 8,
   "metadata": {},
   "outputs": [
    {
     "name": "stdout",
     "output_type": "stream",
     "text": [
      "0\n",
      "1\n",
      "2\n",
      "3\n",
      "4\n",
      "5\n",
      "6\n",
      "7\n",
      "8\n",
      "9\n",
      "10\n"
     ]
    }
   ],
   "source": [
    "i = 0\n",
    "while i <= 100:\n",
    "    print(i)\n",
    "    i = i +1\n",
    "    "
   ]
  },
  {
   "cell_type": "code",
   "execution_count": 9,
   "metadata": {},
   "outputs": [
    {
     "name": "stdout",
     "output_type": "stream",
     "text": [
      "0\n",
      "1\n",
      "2\n",
      "3\n",
      "4\n",
      "5\n",
      "6\n",
      "7\n",
      "8\n",
      "9\n",
      "10\n"
     ]
    }
   ],
   "source": [
    "for i in [0,1,2,3,4,5,6,7,8,9,10]:\n",
    "    print(i)"
   ]
  },
  {
   "cell_type": "code",
   "execution_count": 12,
   "metadata": {},
   "outputs": [
    {
     "name": "stdout",
     "output_type": "stream",
     "text": [
      "10\n",
      "20\n",
      "30\n",
      "40\n",
      "-----------------\n",
      "10\n",
      "20\n",
      "30\n",
      "40\n"
     ]
    }
   ],
   "source": [
    "# range(desde, hasta, incremento)\n",
    "# range(0, 10, 1) => [0,1,2,3,4,5,6,7,8,9]\n",
    "# range(0, 10, 2) => [0,2,4,6,8]\n",
    "# range(5, 10, 1) => [5,6,7,8,9]\n",
    "# range(5, -1, -1) => [5,4,3,2,1,0]\n",
    "# range(10) => range(0,10,1)\n",
    "\n",
    "lista = [10, 20, 30, 40]\n",
    "for elemento in lista:\n",
    "    print(elemento)\n",
    "    \n",
    "print(\"-----------------\")\n",
    "\n",
    "for posicion in range(0, len(lista), 1):\n",
    "    print(lista[posicion])\n",
    "    \n",
    "\n"
   ]
  },
  {
   "cell_type": "code",
   "execution_count": 15,
   "metadata": {},
   "outputs": [
    {
     "name": "stdout",
     "output_type": "stream",
     "text": [
      "[10, 20, 30, 40, 50, 60]\n"
     ]
    }
   ],
   "source": [
    "# hacer un programa que genere una lista con los elementos: 10, 20, 30, 40, 50, 60\n",
    "# lista = []\n",
    "#[10,20,30,40,40,60]\n",
    "\n",
    "lista=[]\n",
    "\n",
    "for i in range(10,70,10):\n",
    "    lista.append(i)\n",
    "\n",
    "print(lista)\n",
    "\n",
    "\n"
   ]
  },
  {
   "cell_type": "code",
   "execution_count": 16,
   "metadata": {},
   "outputs": [
    {
     "name": "stdout",
     "output_type": "stream",
     "text": [
      "[10, 20, 30, 40, 50, 60]\n"
     ]
    }
   ],
   "source": [
    "lista = []\n",
    "i = 10\n",
    "while i < 70:\n",
    "    lista.append(i)\n",
    "    i += 10\n",
    "print(lista)\n"
   ]
  },
  {
   "cell_type": "code",
   "execution_count": 17,
   "metadata": {},
   "outputs": [
    {
     "name": "stdout",
     "output_type": "stream",
     "text": [
      "[10, 20, 30, 40, 50, 60]\n"
     ]
    }
   ],
   "source": [
    "lista = []\n",
    "\n",
    "ii = 0\n",
    "\n",
    "while ii < 60:\n",
    "    ii = ii + 10\n",
    "    lista.append(ii)\n",
    "\n",
    "print(lista)\n"
   ]
  },
  {
   "cell_type": "code",
   "execution_count": 18,
   "metadata": {},
   "outputs": [
    {
     "data": {
      "text/plain": [
       "[0,\n",
       " 1,\n",
       " 2,\n",
       " 3,\n",
       " 4,\n",
       " 5,\n",
       " 6,\n",
       " 7,\n",
       " 8,\n",
       " 9,\n",
       " 10,\n",
       " 11,\n",
       " 12,\n",
       " 13,\n",
       " 14,\n",
       " 15,\n",
       " 16,\n",
       " 17,\n",
       " 18,\n",
       " 19,\n",
       " 20,\n",
       " 21,\n",
       " 22,\n",
       " 23,\n",
       " 24,\n",
       " 25,\n",
       " 26,\n",
       " 27,\n",
       " 28,\n",
       " 29,\n",
       " 30,\n",
       " 31,\n",
       " 32,\n",
       " 33,\n",
       " 34,\n",
       " 35,\n",
       " 36,\n",
       " 37,\n",
       " 38,\n",
       " 39,\n",
       " 40,\n",
       " 41,\n",
       " 42,\n",
       " 43,\n",
       " 44,\n",
       " 45,\n",
       " 46,\n",
       " 47,\n",
       " 48,\n",
       " 49,\n",
       " 50,\n",
       " 51,\n",
       " 52,\n",
       " 53,\n",
       " 54,\n",
       " 55,\n",
       " 56,\n",
       " 57,\n",
       " 58,\n",
       " 59,\n",
       " 60,\n",
       " 61,\n",
       " 62,\n",
       " 63,\n",
       " 64,\n",
       " 65,\n",
       " 66,\n",
       " 67,\n",
       " 68,\n",
       " 69,\n",
       " 70,\n",
       " 71,\n",
       " 72,\n",
       " 73,\n",
       " 74,\n",
       " 75,\n",
       " 76,\n",
       " 77,\n",
       " 78,\n",
       " 79,\n",
       " 80,\n",
       " 81,\n",
       " 82,\n",
       " 83,\n",
       " 84,\n",
       " 85,\n",
       " 86,\n",
       " 87,\n",
       " 88,\n",
       " 89,\n",
       " 90,\n",
       " 91,\n",
       " 92,\n",
       " 93,\n",
       " 94,\n",
       " 95,\n",
       " 96,\n",
       " 97,\n",
       " 98,\n",
       " 99]"
      ]
     },
     "execution_count": 18,
     "metadata": {},
     "output_type": "execute_result"
    }
   ],
   "source": [
    "# Lista por extension o comprension\n",
    "lista_ejemplo = [num for num in range(100)]\n",
    "lista_ejemplo"
   ]
  },
  {
   "cell_type": "code",
   "execution_count": 19,
   "metadata": {},
   "outputs": [
    {
     "data": {
      "text/plain": [
       "[100, 81, 64, 36, 16, 9, 4, 0, 4, 9, 16, 36, 64, 81]"
      ]
     },
     "execution_count": 19,
     "metadata": {},
     "output_type": "execute_result"
    }
   ],
   "source": [
    "lista_ejemplo2 = [ num ** 2 for num in range(-10,10) if ((num%2 == 0) | (num%3 == 0))]\n",
    "lista_ejemplo2"
   ]
  },
  {
   "cell_type": "code",
   "execution_count": 20,
   "metadata": {},
   "outputs": [
    {
     "name": "stdout",
     "output_type": "stream",
     "text": [
      "[4, 5, 6]\n",
      "4\n",
      "5\n",
      "6\n",
      "[23, 45, 67]\n",
      "23\n",
      "45\n",
      "67\n"
     ]
    }
   ],
   "source": [
    "# fila 0 -> 4,5,6\n",
    "# fila 1 -> 23, 45, 67\n",
    "matriz = [[4,5,6], [23,45,67]]\n",
    "for fila in matriz:\n",
    "    print(fila)\n",
    "    for columna in fila:\n",
    "        print(columna)"
   ]
  },
  {
   "cell_type": "code",
   "execution_count": 23,
   "metadata": {},
   "outputs": [
    {
     "name": "stdout",
     "output_type": "stream",
     "text": [
      "[[10, 20, 30], [40, 50, 60]]\n"
     ]
    }
   ],
   "source": [
    "# a partir de una lista vacia\n",
    "# generar una matriz con esta estructura\n",
    "# [[10,20,30], [40,50,60]]\n",
    "\n",
    "#lista = [[num for num in range(10, 40, 10)], [num for num in range(40, 70, 10)]]\n",
    "#print(lista)\n",
    "\n",
    "\n",
    "fila1=[]\n",
    "fila2=[]\n",
    "listaVacia=[]\n",
    "for n in range(10,70,10):\n",
    "    if(n<40):\n",
    "        fila1.append(n)\n",
    "    else:\n",
    "        fila2.append(n)\n",
    "\n",
    "\n",
    "    \n",
    "listaVacia.append(fila1)\n",
    "listaVacia.append(fila2)\n",
    "\n",
    "print(listaVacia)\n",
    "\n"
   ]
  },
  {
   "cell_type": "code",
   "execution_count": 25,
   "metadata": {},
   "outputs": [
    {
     "name": "stdout",
     "output_type": "stream",
     "text": [
      "[[10, 20, 30], [40, 50, 60]]\n"
     ]
    }
   ],
   "source": [
    "m = []\n",
    "valor = 0\n",
    "\n",
    "for fila in range(0,2,1):\n",
    "    m.append([]) # m = [[],[]]\n",
    "    for columna in range(0,3,1):\n",
    "        valor = valor + 10\n",
    "        m[fila].append(valor)\n",
    "\n",
    "print(m)\n"
   ]
  },
  {
   "cell_type": "code",
   "execution_count": 26,
   "metadata": {},
   "outputs": [
    {
     "name": "stdout",
     "output_type": "stream",
     "text": [
      "[[10, 20, 30], [40, 50, 60]]\n"
     ]
    }
   ],
   "source": [
    "matriz=[]\n",
    "for fila in range(2):\n",
    "    matriz.append([])\n",
    "    if fila==0:\n",
    "        for columna in range(10,40,10):\n",
    "            matriz[fila].append(columna)\n",
    "    else:\n",
    "        for columna in range(40,70,10):\n",
    "            matriz[fila].append(columna)\n",
    "\n",
    "print(matriz)\n"
   ]
  }
 ],
 "metadata": {
  "kernelspec": {
   "display_name": "Python 3",
   "language": "python",
   "name": "python3"
  },
  "language_info": {
   "codemirror_mode": {
    "name": "ipython",
    "version": 3
   },
   "file_extension": ".py",
   "mimetype": "text/x-python",
   "name": "python",
   "nbconvert_exporter": "python",
   "pygments_lexer": "ipython3",
   "version": "3.8.3"
  }
 },
 "nbformat": 4,
 "nbformat_minor": 4
}
